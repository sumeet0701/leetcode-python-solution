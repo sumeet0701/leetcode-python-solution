{
 "cells": [
  {
   "cell_type": "code",
   "execution_count": null,
   "metadata": {
    "colab": {
     "base_uri": "https://localhost:8080/",
     "height": 73
    },
    "id": "ycqh0lQ2f7HU",
    "outputId": "9618b98b-24eb-4779-99a3-4170a30a8742"
   },
   "outputs": [],
   "source": [
    "\n"
   ]
  },
  {
   "cell_type": "code",
   "execution_count": 1,
   "metadata": {
    "id": "H3ZbYqOPf9IR"
   },
   "outputs": [],
   "source": [
    "# import libraries\n",
    "import pandas as pd\n",
    "import numpy as np\n",
    "import seaborn as sns\n",
    "import matplotlib.pyplot as plt\n",
    "import plotly.express as px\n",
    "import warnings\n",
    "import plotly.graph_objs as go\n",
    "import plotly.offline as py\n",
    "warnings.filterwarnings(\"ignore\")"
   ]
  },
  {
   "cell_type": "code",
   "execution_count": 2,
   "metadata": {
    "id": "Q25o2MDoivdt"
   },
   "outputs": [],
   "source": [
    "sns.set_style('darkgrid')\n",
    "plt.rcParams['figure.figsize']=(15,8)\n",
    "plt.rcParams['font.size']=18"
   ]
  },
  {
   "cell_type": "code",
   "execution_count": 3,
   "metadata": {
    "id": "TLrIQLmFhKLj"
   },
   "outputs": [],
   "source": [
    "# reading dataset\n",
    "df = pd.read_csv(\"SCMS_Delivery_History_Dataset.csv\")"
   ]
  },
  {
   "cell_type": "code",
   "execution_count": 4,
   "metadata": {
    "colab": {
     "base_uri": "https://localhost:8080/",
     "height": 473
    },
    "id": "1zoRbcawhWG-",
    "outputId": "30bdb073-b78f-4e0c-b497-3c5b30debadc"
   },
   "outputs": [
    {
     "data": {
      "text/html": [
       "<div>\n",
       "<style scoped>\n",
       "    .dataframe tbody tr th:only-of-type {\n",
       "        vertical-align: middle;\n",
       "    }\n",
       "\n",
       "    .dataframe tbody tr th {\n",
       "        vertical-align: top;\n",
       "    }\n",
       "\n",
       "    .dataframe thead th {\n",
       "        text-align: right;\n",
       "    }\n",
       "</style>\n",
       "<table border=\"1\" class=\"dataframe\">\n",
       "  <thead>\n",
       "    <tr style=\"text-align: right;\">\n",
       "      <th></th>\n",
       "      <th>ID</th>\n",
       "      <th>Project Code</th>\n",
       "      <th>PQ #</th>\n",
       "      <th>PO / SO #</th>\n",
       "      <th>ASN/DN #</th>\n",
       "      <th>Country</th>\n",
       "      <th>Managed By</th>\n",
       "      <th>Fulfill Via</th>\n",
       "      <th>Vendor INCO Term</th>\n",
       "      <th>Shipment Mode</th>\n",
       "      <th>...</th>\n",
       "      <th>Unit of Measure (Per Pack)</th>\n",
       "      <th>Line Item Quantity</th>\n",
       "      <th>Line Item Value</th>\n",
       "      <th>Pack Price</th>\n",
       "      <th>Unit Price</th>\n",
       "      <th>Manufacturing Site</th>\n",
       "      <th>First Line Designation</th>\n",
       "      <th>Weight (Kilograms)</th>\n",
       "      <th>Freight Cost (USD)</th>\n",
       "      <th>Line Item Insurance (USD)</th>\n",
       "    </tr>\n",
       "  </thead>\n",
       "  <tbody>\n",
       "    <tr>\n",
       "      <th>0</th>\n",
       "      <td>1</td>\n",
       "      <td>100-CI-T01</td>\n",
       "      <td>Pre-PQ Process</td>\n",
       "      <td>SCMS-4</td>\n",
       "      <td>ASN-8</td>\n",
       "      <td>Côte d'Ivoire</td>\n",
       "      <td>PMO - US</td>\n",
       "      <td>Direct Drop</td>\n",
       "      <td>EXW</td>\n",
       "      <td>Air</td>\n",
       "      <td>...</td>\n",
       "      <td>30</td>\n",
       "      <td>19</td>\n",
       "      <td>551.0</td>\n",
       "      <td>29.00</td>\n",
       "      <td>0.97</td>\n",
       "      <td>Ranbaxy Fine Chemicals LTD</td>\n",
       "      <td>Yes</td>\n",
       "      <td>13</td>\n",
       "      <td>780.34</td>\n",
       "      <td>NaN</td>\n",
       "    </tr>\n",
       "    <tr>\n",
       "      <th>1</th>\n",
       "      <td>3</td>\n",
       "      <td>108-VN-T01</td>\n",
       "      <td>Pre-PQ Process</td>\n",
       "      <td>SCMS-13</td>\n",
       "      <td>ASN-85</td>\n",
       "      <td>Vietnam</td>\n",
       "      <td>PMO - US</td>\n",
       "      <td>Direct Drop</td>\n",
       "      <td>EXW</td>\n",
       "      <td>Air</td>\n",
       "      <td>...</td>\n",
       "      <td>240</td>\n",
       "      <td>1000</td>\n",
       "      <td>6200.0</td>\n",
       "      <td>6.20</td>\n",
       "      <td>0.03</td>\n",
       "      <td>Aurobindo Unit III, India</td>\n",
       "      <td>Yes</td>\n",
       "      <td>358</td>\n",
       "      <td>4521.5</td>\n",
       "      <td>NaN</td>\n",
       "    </tr>\n",
       "    <tr>\n",
       "      <th>2</th>\n",
       "      <td>4</td>\n",
       "      <td>100-CI-T01</td>\n",
       "      <td>Pre-PQ Process</td>\n",
       "      <td>SCMS-20</td>\n",
       "      <td>ASN-14</td>\n",
       "      <td>Côte d'Ivoire</td>\n",
       "      <td>PMO - US</td>\n",
       "      <td>Direct Drop</td>\n",
       "      <td>FCA</td>\n",
       "      <td>Air</td>\n",
       "      <td>...</td>\n",
       "      <td>100</td>\n",
       "      <td>500</td>\n",
       "      <td>40000.0</td>\n",
       "      <td>80.00</td>\n",
       "      <td>0.80</td>\n",
       "      <td>ABBVIE GmbH &amp; Co.KG Wiesbaden</td>\n",
       "      <td>Yes</td>\n",
       "      <td>171</td>\n",
       "      <td>1653.78</td>\n",
       "      <td>NaN</td>\n",
       "    </tr>\n",
       "    <tr>\n",
       "      <th>3</th>\n",
       "      <td>15</td>\n",
       "      <td>108-VN-T01</td>\n",
       "      <td>Pre-PQ Process</td>\n",
       "      <td>SCMS-78</td>\n",
       "      <td>ASN-50</td>\n",
       "      <td>Vietnam</td>\n",
       "      <td>PMO - US</td>\n",
       "      <td>Direct Drop</td>\n",
       "      <td>EXW</td>\n",
       "      <td>Air</td>\n",
       "      <td>...</td>\n",
       "      <td>60</td>\n",
       "      <td>31920</td>\n",
       "      <td>127360.8</td>\n",
       "      <td>3.99</td>\n",
       "      <td>0.07</td>\n",
       "      <td>Ranbaxy, Paonta Shahib, India</td>\n",
       "      <td>Yes</td>\n",
       "      <td>1855</td>\n",
       "      <td>16007.06</td>\n",
       "      <td>NaN</td>\n",
       "    </tr>\n",
       "    <tr>\n",
       "      <th>4</th>\n",
       "      <td>16</td>\n",
       "      <td>108-VN-T01</td>\n",
       "      <td>Pre-PQ Process</td>\n",
       "      <td>SCMS-81</td>\n",
       "      <td>ASN-55</td>\n",
       "      <td>Vietnam</td>\n",
       "      <td>PMO - US</td>\n",
       "      <td>Direct Drop</td>\n",
       "      <td>EXW</td>\n",
       "      <td>Air</td>\n",
       "      <td>...</td>\n",
       "      <td>60</td>\n",
       "      <td>38000</td>\n",
       "      <td>121600.0</td>\n",
       "      <td>3.20</td>\n",
       "      <td>0.05</td>\n",
       "      <td>Aurobindo Unit III, India</td>\n",
       "      <td>Yes</td>\n",
       "      <td>7590</td>\n",
       "      <td>45450.08</td>\n",
       "      <td>NaN</td>\n",
       "    </tr>\n",
       "  </tbody>\n",
       "</table>\n",
       "<p>5 rows × 33 columns</p>\n",
       "</div>"
      ],
      "text/plain": [
       "   ID Project Code            PQ # PO / SO # ASN/DN #        Country  \\\n",
       "0   1   100-CI-T01  Pre-PQ Process    SCMS-4    ASN-8  Côte d'Ivoire   \n",
       "1   3   108-VN-T01  Pre-PQ Process   SCMS-13   ASN-85        Vietnam   \n",
       "2   4   100-CI-T01  Pre-PQ Process   SCMS-20   ASN-14  Côte d'Ivoire   \n",
       "3  15   108-VN-T01  Pre-PQ Process   SCMS-78   ASN-50        Vietnam   \n",
       "4  16   108-VN-T01  Pre-PQ Process   SCMS-81   ASN-55        Vietnam   \n",
       "\n",
       "  Managed By  Fulfill Via Vendor INCO Term Shipment Mode  ...  \\\n",
       "0   PMO - US  Direct Drop              EXW           Air  ...   \n",
       "1   PMO - US  Direct Drop              EXW           Air  ...   \n",
       "2   PMO - US  Direct Drop              FCA           Air  ...   \n",
       "3   PMO - US  Direct Drop              EXW           Air  ...   \n",
       "4   PMO - US  Direct Drop              EXW           Air  ...   \n",
       "\n",
       "  Unit of Measure (Per Pack) Line Item Quantity Line Item Value Pack Price  \\\n",
       "0                         30                 19           551.0      29.00   \n",
       "1                        240               1000          6200.0       6.20   \n",
       "2                        100                500         40000.0      80.00   \n",
       "3                         60              31920        127360.8       3.99   \n",
       "4                         60              38000        121600.0       3.20   \n",
       "\n",
       "  Unit Price             Manufacturing Site First Line Designation  \\\n",
       "0       0.97     Ranbaxy Fine Chemicals LTD                    Yes   \n",
       "1       0.03      Aurobindo Unit III, India                    Yes   \n",
       "2       0.80  ABBVIE GmbH & Co.KG Wiesbaden                    Yes   \n",
       "3       0.07  Ranbaxy, Paonta Shahib, India                    Yes   \n",
       "4       0.05      Aurobindo Unit III, India                    Yes   \n",
       "\n",
       "  Weight (Kilograms) Freight Cost (USD) Line Item Insurance (USD)  \n",
       "0                 13             780.34                       NaN  \n",
       "1                358             4521.5                       NaN  \n",
       "2                171            1653.78                       NaN  \n",
       "3               1855           16007.06                       NaN  \n",
       "4               7590           45450.08                       NaN  \n",
       "\n",
       "[5 rows x 33 columns]"
      ]
     },
     "execution_count": 4,
     "metadata": {},
     "output_type": "execute_result"
    }
   ],
   "source": [
    "df.head()"
   ]
  },
  {
   "cell_type": "code",
   "execution_count": 5,
   "metadata": {
    "colab": {
     "base_uri": "https://localhost:8080/",
     "height": 577
    },
    "id": "4rgGvx5zhW5c",
    "outputId": "199d6536-f6c5-41cb-e10b-e69ab3a48bec"
   },
   "outputs": [
    {
     "data": {
      "text/html": [
       "<div>\n",
       "<style scoped>\n",
       "    .dataframe tbody tr th:only-of-type {\n",
       "        vertical-align: middle;\n",
       "    }\n",
       "\n",
       "    .dataframe tbody tr th {\n",
       "        vertical-align: top;\n",
       "    }\n",
       "\n",
       "    .dataframe thead th {\n",
       "        text-align: right;\n",
       "    }\n",
       "</style>\n",
       "<table border=\"1\" class=\"dataframe\">\n",
       "  <thead>\n",
       "    <tr style=\"text-align: right;\">\n",
       "      <th></th>\n",
       "      <th>ID</th>\n",
       "      <th>Project Code</th>\n",
       "      <th>PQ #</th>\n",
       "      <th>PO / SO #</th>\n",
       "      <th>ASN/DN #</th>\n",
       "      <th>Country</th>\n",
       "      <th>Managed By</th>\n",
       "      <th>Fulfill Via</th>\n",
       "      <th>Vendor INCO Term</th>\n",
       "      <th>Shipment Mode</th>\n",
       "      <th>...</th>\n",
       "      <th>Unit of Measure (Per Pack)</th>\n",
       "      <th>Line Item Quantity</th>\n",
       "      <th>Line Item Value</th>\n",
       "      <th>Pack Price</th>\n",
       "      <th>Unit Price</th>\n",
       "      <th>Manufacturing Site</th>\n",
       "      <th>First Line Designation</th>\n",
       "      <th>Weight (Kilograms)</th>\n",
       "      <th>Freight Cost (USD)</th>\n",
       "      <th>Line Item Insurance (USD)</th>\n",
       "    </tr>\n",
       "  </thead>\n",
       "  <tbody>\n",
       "    <tr>\n",
       "      <th>10319</th>\n",
       "      <td>86818</td>\n",
       "      <td>103-ZW-T30</td>\n",
       "      <td>FPQ-15197</td>\n",
       "      <td>SO-50020</td>\n",
       "      <td>DN-4307</td>\n",
       "      <td>Zimbabwe</td>\n",
       "      <td>PMO - US</td>\n",
       "      <td>From RDC</td>\n",
       "      <td>N/A - From RDC</td>\n",
       "      <td>Truck</td>\n",
       "      <td>...</td>\n",
       "      <td>60</td>\n",
       "      <td>166571</td>\n",
       "      <td>599655.60</td>\n",
       "      <td>3.60</td>\n",
       "      <td>0.06</td>\n",
       "      <td>Mylan,  H-12 &amp; H-13, India</td>\n",
       "      <td>No</td>\n",
       "      <td>See DN-4307 (ID#:83920)</td>\n",
       "      <td>See DN-4307 (ID#:83920)</td>\n",
       "      <td>705.79</td>\n",
       "    </tr>\n",
       "    <tr>\n",
       "      <th>10320</th>\n",
       "      <td>86819</td>\n",
       "      <td>104-CI-T30</td>\n",
       "      <td>FPQ-15259</td>\n",
       "      <td>SO-50102</td>\n",
       "      <td>DN-4313</td>\n",
       "      <td>Côte d'Ivoire</td>\n",
       "      <td>PMO - US</td>\n",
       "      <td>From RDC</td>\n",
       "      <td>N/A - From RDC</td>\n",
       "      <td>Truck</td>\n",
       "      <td>...</td>\n",
       "      <td>60</td>\n",
       "      <td>21072</td>\n",
       "      <td>137389.44</td>\n",
       "      <td>6.52</td>\n",
       "      <td>0.11</td>\n",
       "      <td>Hetero Unit III Hyderabad IN</td>\n",
       "      <td>No</td>\n",
       "      <td>See DN-4313 (ID#:83921)</td>\n",
       "      <td>See DN-4313 (ID#:83921)</td>\n",
       "      <td>161.71</td>\n",
       "    </tr>\n",
       "    <tr>\n",
       "      <th>10321</th>\n",
       "      <td>86821</td>\n",
       "      <td>110-ZM-T30</td>\n",
       "      <td>FPQ-14784</td>\n",
       "      <td>SO-49600</td>\n",
       "      <td>DN-4316</td>\n",
       "      <td>Zambia</td>\n",
       "      <td>PMO - US</td>\n",
       "      <td>From RDC</td>\n",
       "      <td>N/A - From RDC</td>\n",
       "      <td>Truck</td>\n",
       "      <td>...</td>\n",
       "      <td>30</td>\n",
       "      <td>514526</td>\n",
       "      <td>5140114.74</td>\n",
       "      <td>9.99</td>\n",
       "      <td>0.33</td>\n",
       "      <td>Cipla Ltd A-42 MIDC Mahar. IN</td>\n",
       "      <td>No</td>\n",
       "      <td>Weight Captured Separately</td>\n",
       "      <td>Freight Included in Commodity Cost</td>\n",
       "      <td>5284.04</td>\n",
       "    </tr>\n",
       "    <tr>\n",
       "      <th>10322</th>\n",
       "      <td>86822</td>\n",
       "      <td>200-ZW-T30</td>\n",
       "      <td>FPQ-16523</td>\n",
       "      <td>SO-51680</td>\n",
       "      <td>DN-4334</td>\n",
       "      <td>Zimbabwe</td>\n",
       "      <td>PMO - US</td>\n",
       "      <td>From RDC</td>\n",
       "      <td>N/A - From RDC</td>\n",
       "      <td>Truck</td>\n",
       "      <td>...</td>\n",
       "      <td>60</td>\n",
       "      <td>17465</td>\n",
       "      <td>113871.80</td>\n",
       "      <td>6.52</td>\n",
       "      <td>0.11</td>\n",
       "      <td>Mylan (formerly Matrix) Nashik</td>\n",
       "      <td>Yes</td>\n",
       "      <td>1392</td>\n",
       "      <td>Freight Included in Commodity Cost</td>\n",
       "      <td>134.03</td>\n",
       "    </tr>\n",
       "    <tr>\n",
       "      <th>10323</th>\n",
       "      <td>86823</td>\n",
       "      <td>103-ZW-T30</td>\n",
       "      <td>FPQ-15197</td>\n",
       "      <td>SO-50022</td>\n",
       "      <td>DN-4336</td>\n",
       "      <td>Zimbabwe</td>\n",
       "      <td>PMO - US</td>\n",
       "      <td>From RDC</td>\n",
       "      <td>N/A - From RDC</td>\n",
       "      <td>Truck</td>\n",
       "      <td>...</td>\n",
       "      <td>60</td>\n",
       "      <td>36639</td>\n",
       "      <td>72911.61</td>\n",
       "      <td>1.99</td>\n",
       "      <td>0.03</td>\n",
       "      <td>Cipla, Goa, India</td>\n",
       "      <td>No</td>\n",
       "      <td>Weight Captured Separately</td>\n",
       "      <td>Freight Included in Commodity Cost</td>\n",
       "      <td>85.82</td>\n",
       "    </tr>\n",
       "  </tbody>\n",
       "</table>\n",
       "<p>5 rows × 33 columns</p>\n",
       "</div>"
      ],
      "text/plain": [
       "          ID Project Code       PQ # PO / SO # ASN/DN #        Country  \\\n",
       "10319  86818   103-ZW-T30  FPQ-15197  SO-50020  DN-4307       Zimbabwe   \n",
       "10320  86819   104-CI-T30  FPQ-15259  SO-50102  DN-4313  Côte d'Ivoire   \n",
       "10321  86821   110-ZM-T30  FPQ-14784  SO-49600  DN-4316         Zambia   \n",
       "10322  86822   200-ZW-T30  FPQ-16523  SO-51680  DN-4334       Zimbabwe   \n",
       "10323  86823   103-ZW-T30  FPQ-15197  SO-50022  DN-4336       Zimbabwe   \n",
       "\n",
       "      Managed By Fulfill Via Vendor INCO Term Shipment Mode  ...  \\\n",
       "10319   PMO - US    From RDC   N/A - From RDC         Truck  ...   \n",
       "10320   PMO - US    From RDC   N/A - From RDC         Truck  ...   \n",
       "10321   PMO - US    From RDC   N/A - From RDC         Truck  ...   \n",
       "10322   PMO - US    From RDC   N/A - From RDC         Truck  ...   \n",
       "10323   PMO - US    From RDC   N/A - From RDC         Truck  ...   \n",
       "\n",
       "      Unit of Measure (Per Pack) Line Item Quantity Line Item Value  \\\n",
       "10319                         60             166571       599655.60   \n",
       "10320                         60              21072       137389.44   \n",
       "10321                         30             514526      5140114.74   \n",
       "10322                         60              17465       113871.80   \n",
       "10323                         60              36639        72911.61   \n",
       "\n",
       "      Pack Price Unit Price              Manufacturing Site  \\\n",
       "10319       3.60       0.06      Mylan,  H-12 & H-13, India   \n",
       "10320       6.52       0.11    Hetero Unit III Hyderabad IN   \n",
       "10321       9.99       0.33   Cipla Ltd A-42 MIDC Mahar. IN   \n",
       "10322       6.52       0.11  Mylan (formerly Matrix) Nashik   \n",
       "10323       1.99       0.03               Cipla, Goa, India   \n",
       "\n",
       "      First Line Designation          Weight (Kilograms)  \\\n",
       "10319                     No     See DN-4307 (ID#:83920)   \n",
       "10320                     No     See DN-4313 (ID#:83921)   \n",
       "10321                     No  Weight Captured Separately   \n",
       "10322                    Yes                        1392   \n",
       "10323                     No  Weight Captured Separately   \n",
       "\n",
       "                       Freight Cost (USD) Line Item Insurance (USD)  \n",
       "10319             See DN-4307 (ID#:83920)                    705.79  \n",
       "10320             See DN-4313 (ID#:83921)                    161.71  \n",
       "10321  Freight Included in Commodity Cost                   5284.04  \n",
       "10322  Freight Included in Commodity Cost                    134.03  \n",
       "10323  Freight Included in Commodity Cost                     85.82  \n",
       "\n",
       "[5 rows x 33 columns]"
      ]
     },
     "execution_count": 5,
     "metadata": {},
     "output_type": "execute_result"
    }
   ],
   "source": [
    "df.tail()"
   ]
  },
  {
   "cell_type": "code",
   "execution_count": 6,
   "metadata": {
    "colab": {
     "base_uri": "https://localhost:8080/"
    },
    "id": "9olNwdmehYWk",
    "outputId": "e14e5cbb-e235-4073-dacc-aaa07a677790"
   },
   "outputs": [
    {
     "name": "stdout",
     "output_type": "stream",
     "text": [
      "Total No of Rows: 10324 and Columns: 33\n"
     ]
    }
   ],
   "source": [
    "print(f\"Total No of Rows: {df.shape[0]} and Columns: {df.shape[1]}\")"
   ]
  },
  {
   "cell_type": "code",
   "execution_count": 7,
   "metadata": {
    "colab": {
     "base_uri": "https://localhost:8080/"
    },
    "id": "oSyxVKj2hlf9",
    "outputId": "ddb1a05d-5dbe-4464-f47b-2e1584ab3b09"
   },
   "outputs": [
    {
     "name": "stdout",
     "output_type": "stream",
     "text": [
      "<class 'pandas.core.frame.DataFrame'>\n",
      "RangeIndex: 10324 entries, 0 to 10323\n",
      "Data columns (total 33 columns):\n",
      " #   Column                        Non-Null Count  Dtype  \n",
      "---  ------                        --------------  -----  \n",
      " 0   ID                            10324 non-null  int64  \n",
      " 1   Project Code                  10324 non-null  object \n",
      " 2   PQ #                          10324 non-null  object \n",
      " 3   PO / SO #                     10324 non-null  object \n",
      " 4   ASN/DN #                      10324 non-null  object \n",
      " 5   Country                       10324 non-null  object \n",
      " 6   Managed By                    10324 non-null  object \n",
      " 7   Fulfill Via                   10324 non-null  object \n",
      " 8   Vendor INCO Term              10324 non-null  object \n",
      " 9   Shipment Mode                 9964 non-null   object \n",
      " 10  PQ First Sent to Client Date  10324 non-null  object \n",
      " 11  PO Sent to Vendor Date        10324 non-null  object \n",
      " 12  Scheduled Delivery Date       10324 non-null  object \n",
      " 13  Delivered to Client Date      10324 non-null  object \n",
      " 14  Delivery Recorded Date        10324 non-null  object \n",
      " 15  Product Group                 10324 non-null  object \n",
      " 16  Sub Classification            10324 non-null  object \n",
      " 17  Vendor                        10324 non-null  object \n",
      " 18  Item Description              10324 non-null  object \n",
      " 19  Molecule/Test Type            10324 non-null  object \n",
      " 20  Brand                         10324 non-null  object \n",
      " 21  Dosage                        8588 non-null   object \n",
      " 22  Dosage Form                   10324 non-null  object \n",
      " 23  Unit of Measure (Per Pack)    10324 non-null  int64  \n",
      " 24  Line Item Quantity            10324 non-null  int64  \n",
      " 25  Line Item Value               10324 non-null  float64\n",
      " 26  Pack Price                    10324 non-null  float64\n",
      " 27  Unit Price                    10324 non-null  float64\n",
      " 28  Manufacturing Site            10324 non-null  object \n",
      " 29  First Line Designation        10324 non-null  object \n",
      " 30  Weight (Kilograms)            10324 non-null  object \n",
      " 31  Freight Cost (USD)            10324 non-null  object \n",
      " 32  Line Item Insurance (USD)     10037 non-null  float64\n",
      "dtypes: float64(4), int64(3), object(26)\n",
      "memory usage: 2.6+ MB\n"
     ]
    }
   ],
   "source": [
    "# basic info\n",
    "df.info()"
   ]
  },
  {
   "cell_type": "code",
   "execution_count": 8,
   "metadata": {
    "colab": {
     "base_uri": "https://localhost:8080/"
    },
    "id": "iYYYGn4mhqIs",
    "outputId": "0fa14ccc-2b9b-40ef-f7a3-d7e25ef130da"
   },
   "outputs": [
    {
     "data": {
      "text/plain": [
       "ID                              10324\n",
       "Project Code                      142\n",
       "PQ #                             1237\n",
       "PO / SO #                        6233\n",
       "ASN/DN #                         7030\n",
       "Country                            43\n",
       "Managed By                          4\n",
       "Fulfill Via                         2\n",
       "Vendor INCO Term                    8\n",
       "Shipment Mode                       4\n",
       "PQ First Sent to Client Date      765\n",
       "PO Sent to Vendor Date            897\n",
       "Scheduled Delivery Date          2006\n",
       "Delivered to Client Date         2093\n",
       "Delivery Recorded Date           2042\n",
       "Product Group                       5\n",
       "Sub Classification                  6\n",
       "Vendor                             73\n",
       "Item Description                  184\n",
       "Molecule/Test Type                 86\n",
       "Brand                              48\n",
       "Dosage                             54\n",
       "Dosage Form                        17\n",
       "Unit of Measure (Per Pack)         31\n",
       "Line Item Quantity               5065\n",
       "Line Item Value                  8741\n",
       "Pack Price                       1175\n",
       "Unit Price                        183\n",
       "Manufacturing Site                 88\n",
       "First Line Designation              2\n",
       "Weight (Kilograms)               4688\n",
       "Freight Cost (USD)               6733\n",
       "Line Item Insurance (USD)        6722\n",
       "dtype: int64"
      ]
     },
     "execution_count": 8,
     "metadata": {},
     "output_type": "execute_result"
    }
   ],
   "source": [
    "# total no of unique values in each columns\n",
    "df.nunique()"
   ]
  },
  {
   "cell_type": "code",
   "execution_count": 9,
   "metadata": {
    "colab": {
     "base_uri": "https://localhost:8080/"
    },
    "id": "bYubNilkh0Ki",
    "outputId": "ff2f92ec-a7da-46aa-b6a2-0ad1df5e0afc"
   },
   "outputs": [
    {
     "data": {
      "text/plain": [
       "ID                                 0\n",
       "Project Code                       0\n",
       "PQ #                               0\n",
       "PO / SO #                          0\n",
       "ASN/DN #                           0\n",
       "Country                            0\n",
       "Managed By                         0\n",
       "Fulfill Via                        0\n",
       "Vendor INCO Term                   0\n",
       "Shipment Mode                    360\n",
       "PQ First Sent to Client Date       0\n",
       "PO Sent to Vendor Date             0\n",
       "Scheduled Delivery Date            0\n",
       "Delivered to Client Date           0\n",
       "Delivery Recorded Date             0\n",
       "Product Group                      0\n",
       "Sub Classification                 0\n",
       "Vendor                             0\n",
       "Item Description                   0\n",
       "Molecule/Test Type                 0\n",
       "Brand                              0\n",
       "Dosage                          1736\n",
       "Dosage Form                        0\n",
       "Unit of Measure (Per Pack)         0\n",
       "Line Item Quantity                 0\n",
       "Line Item Value                    0\n",
       "Pack Price                         0\n",
       "Unit Price                         0\n",
       "Manufacturing Site                 0\n",
       "First Line Designation             0\n",
       "Weight (Kilograms)                 0\n",
       "Freight Cost (USD)                 0\n",
       "Line Item Insurance (USD)        287\n",
       "dtype: int64"
      ]
     },
     "execution_count": 9,
     "metadata": {},
     "output_type": "execute_result"
    }
   ],
   "source": [
    "# checking for null values\n",
    "df.isnull().sum()"
   ]
  },
  {
   "cell_type": "code",
   "execution_count": 10,
   "metadata": {
    "colab": {
     "base_uri": "https://localhost:8080/"
    },
    "id": "PMXJlhcdh-PX",
    "outputId": "c21eccb1-1b0e-4d1e-fac0-27516e4664f3"
   },
   "outputs": [
    {
     "data": {
      "text/plain": [
       "ID                               0.000000\n",
       "Project Code                     0.000000\n",
       "PQ #                             0.000000\n",
       "PO / SO #                        0.000000\n",
       "ASN/DN #                         0.000000\n",
       "Country                          0.000000\n",
       "Managed By                       0.000000\n",
       "Fulfill Via                      0.000000\n",
       "Vendor INCO Term                 0.000000\n",
       "Shipment Mode                    3.487021\n",
       "PQ First Sent to Client Date     0.000000\n",
       "PO Sent to Vendor Date           0.000000\n",
       "Scheduled Delivery Date          0.000000\n",
       "Delivered to Client Date         0.000000\n",
       "Delivery Recorded Date           0.000000\n",
       "Product Group                    0.000000\n",
       "Sub Classification               0.000000\n",
       "Vendor                           0.000000\n",
       "Item Description                 0.000000\n",
       "Molecule/Test Type               0.000000\n",
       "Brand                            0.000000\n",
       "Dosage                          16.815188\n",
       "Dosage Form                      0.000000\n",
       "Unit of Measure (Per Pack)       0.000000\n",
       "Line Item Quantity               0.000000\n",
       "Line Item Value                  0.000000\n",
       "Pack Price                       0.000000\n",
       "Unit Price                       0.000000\n",
       "Manufacturing Site               0.000000\n",
       "First Line Designation           0.000000\n",
       "Weight (Kilograms)               0.000000\n",
       "Freight Cost (USD)               0.000000\n",
       "Line Item Insurance (USD)        2.779930\n",
       "dtype: float64"
      ]
     },
     "execution_count": 10,
     "metadata": {},
     "output_type": "execute_result"
    }
   ],
   "source": [
    "#null values in %ages\n",
    "df.isnull().mean()*100"
   ]
  },
  {
   "cell_type": "markdown",
   "metadata": {
    "id": "3X3FDCnPiGvs"
   },
   "source": [
    "**Obsveration**\n",
    "1. Dosage has highest no if null values around 17%\n",
    "2. shipment cost and line Item Insurance has similar no of null values on average of 3%\n"
   ]
  },
  {
   "cell_type": "code",
   "execution_count": 11,
   "metadata": {
    "colab": {
     "base_uri": "https://localhost:8080/",
     "height": 745
    },
    "id": "zkNBzzJSiGaQ",
    "outputId": "d2f35ebc-c754-4174-faba-65f6f58d1d3e"
   },
   "outputs": [
    {
     "data": {
      "text/plain": [
       "<AxesSubplot:>"
      ]
     },
     "execution_count": 11,
     "metadata": {},
     "output_type": "execute_result"
    },
    {
     "data": {
      "image/png": "[encoded data removed]",
      "text/plain": [
       "<Figure size 1080x576 with 2 Axes>"
      ]
     },
     "metadata": {},
     "output_type": "display_data"
    }
   ],
   "source": [
    "# heatmap for null values\n",
    "sns.heatmap(df.isnull(), cmap =\"Blues\")"
   ]
  },
  {
   "cell_type": "code",
   "execution_count": 12,
   "metadata": {
    "colab": {
     "base_uri": "https://localhost:8080/"
    },
    "id": "RxXuQ76GiE3E",
    "outputId": "a06f56f5-0073-4b44-a6b0-e0576cf5c049"
   },
   "outputs": [
    {
     "data": {
      "text/plain": [
       "0        False\n",
       "1        False\n",
       "2        False\n",
       "3        False\n",
       "4        False\n",
       "         ...  \n",
       "10319    False\n",
       "10320    False\n",
       "10321    False\n",
       "10322    False\n",
       "10323    False\n",
       "Length: 10324, dtype: bool"
      ]
     },
     "execution_count": 12,
     "metadata": {},
     "output_type": "execute_result"
    }
   ],
   "source": [
    "# chexking duplicated values\n",
    "df.duplicated()"
   ]
  },
  {
   "cell_type": "code",
   "execution_count": 13,
   "metadata": {
    "colab": {
     "base_uri": "https://localhost:8080/"
    },
    "id": "tcFTf-IJjRdv",
    "outputId": "ddec25f6-4fb1-453c-a8bb-08a95e2cae46"
   },
   "outputs": [
    {
     "data": {
      "text/plain": [
       "0"
      ]
     },
     "execution_count": 13,
     "metadata": {},
     "output_type": "execute_result"
    }
   ],
   "source": [
    "# chexking duplicated values\n",
    "df.duplicated().sum()"
   ]
  },
  {
   "cell_type": "markdown",
   "metadata": {
    "id": "2QbMyQvzjdu-"
   },
   "source": [
    "**Observation**\n",
    "\n",
    "There is no duplicated values present in dataset"
   ]
  },
  {
   "cell_type": "code",
   "execution_count": 14,
   "metadata": {
    "colab": {
     "base_uri": "https://localhost:8080/",
     "height": 347
    },
    "id": "To5Y9yBOjc_Q",
    "outputId": "04424022-0e40-457a-b9b4-962ea53a0d93"
   },
   "outputs": [
    {
     "data": {
      "text/html": [
       "<div>\n",
       "<style scoped>\n",
       "    .dataframe tbody tr th:only-of-type {\n",
       "        vertical-align: middle;\n",
       "    }\n",
       "\n",
       "    .dataframe tbody tr th {\n",
       "        vertical-align: top;\n",
       "    }\n",
       "\n",
       "    .dataframe thead th {\n",
       "        text-align: right;\n",
       "    }\n",
       "</style>\n",
       "<table border=\"1\" class=\"dataframe\">\n",
       "  <thead>\n",
       "    <tr style=\"text-align: right;\">\n",
       "      <th></th>\n",
       "      <th>count</th>\n",
       "      <th>mean</th>\n",
       "      <th>std</th>\n",
       "      <th>min</th>\n",
       "      <th>25%</th>\n",
       "      <th>50%</th>\n",
       "      <th>75%</th>\n",
       "      <th>max</th>\n",
       "    </tr>\n",
       "  </thead>\n",
       "  <tbody>\n",
       "    <tr>\n",
       "      <th>ID</th>\n",
       "      <td>10324.0</td>\n",
       "      <td>51098.968229</td>\n",
       "      <td>31944.332496</td>\n",
       "      <td>1.0</td>\n",
       "      <td>12795.7500</td>\n",
       "      <td>57540.500</td>\n",
       "      <td>83648.2500</td>\n",
       "      <td>86823.00</td>\n",
       "    </tr>\n",
       "    <tr>\n",
       "      <th>Unit of Measure (Per Pack)</th>\n",
       "      <td>10324.0</td>\n",
       "      <td>77.990895</td>\n",
       "      <td>76.579764</td>\n",
       "      <td>1.0</td>\n",
       "      <td>30.0000</td>\n",
       "      <td>60.000</td>\n",
       "      <td>90.0000</td>\n",
       "      <td>1000.00</td>\n",
       "    </tr>\n",
       "    <tr>\n",
       "      <th>Line Item Quantity</th>\n",
       "      <td>10324.0</td>\n",
       "      <td>18332.534870</td>\n",
       "      <td>40035.302961</td>\n",
       "      <td>1.0</td>\n",
       "      <td>408.0000</td>\n",
       "      <td>3000.000</td>\n",
       "      <td>17039.7500</td>\n",
       "      <td>619999.00</td>\n",
       "    </tr>\n",
       "    <tr>\n",
       "      <th>Line Item Value</th>\n",
       "      <td>10324.0</td>\n",
       "      <td>157650.567347</td>\n",
       "      <td>345292.066979</td>\n",
       "      <td>0.0</td>\n",
       "      <td>4314.5925</td>\n",
       "      <td>30471.465</td>\n",
       "      <td>166447.1400</td>\n",
       "      <td>5951990.40</td>\n",
       "    </tr>\n",
       "    <tr>\n",
       "      <th>Pack Price</th>\n",
       "      <td>10324.0</td>\n",
       "      <td>21.910241</td>\n",
       "      <td>45.609223</td>\n",
       "      <td>0.0</td>\n",
       "      <td>4.1200</td>\n",
       "      <td>9.300</td>\n",
       "      <td>23.5925</td>\n",
       "      <td>1345.64</td>\n",
       "    </tr>\n",
       "    <tr>\n",
       "      <th>Unit Price</th>\n",
       "      <td>10324.0</td>\n",
       "      <td>0.611701</td>\n",
       "      <td>3.275808</td>\n",
       "      <td>0.0</td>\n",
       "      <td>0.0800</td>\n",
       "      <td>0.160</td>\n",
       "      <td>0.4700</td>\n",
       "      <td>238.65</td>\n",
       "    </tr>\n",
       "    <tr>\n",
       "      <th>Line Item Insurance (USD)</th>\n",
       "      <td>10037.0</td>\n",
       "      <td>240.117626</td>\n",
       "      <td>500.190568</td>\n",
       "      <td>0.0</td>\n",
       "      <td>6.5100</td>\n",
       "      <td>47.040</td>\n",
       "      <td>252.4000</td>\n",
       "      <td>7708.44</td>\n",
       "    </tr>\n",
       "  </tbody>\n",
       "</table>\n",
       "</div>"
      ],
      "text/plain": [
       "                              count           mean            std  min  \\\n",
       "ID                          10324.0   51098.968229   31944.332496  1.0   \n",
       "Unit of Measure (Per Pack)  10324.0      77.990895      76.579764  1.0   \n",
       "Line Item Quantity          10324.0   18332.534870   40035.302961  1.0   \n",
       "Line Item Value             10324.0  157650.567347  345292.066979  0.0   \n",
       "Pack Price                  10324.0      21.910241      45.609223  0.0   \n",
       "Unit Price                  10324.0       0.611701       3.275808  0.0   \n",
       "Line Item Insurance (USD)   10037.0     240.117626     500.190568  0.0   \n",
       "\n",
       "                                   25%        50%          75%         max  \n",
       "ID                          12795.7500  57540.500   83648.2500    86823.00  \n",
       "Unit of Measure (Per Pack)     30.0000     60.000      90.0000     1000.00  \n",
       "Line Item Quantity            408.0000   3000.000   17039.7500   619999.00  \n",
       "Line Item Value              4314.5925  30471.465  166447.1400  5951990.40  \n",
       "Pack Price                      4.1200      9.300      23.5925     1345.64  \n",
       "Unit Price                      0.0800      0.160       0.4700      238.65  \n",
       "Line Item Insurance (USD)       6.5100     47.040     252.4000     7708.44  "
      ]
     },
     "execution_count": 14,
     "metadata": {},
     "output_type": "execute_result"
    }
   ],
   "source": [
    "# statasic analysis\n",
    "df.describe().T"
   ]
  },
  {
   "cell_type": "code",
   "execution_count": 15,
   "metadata": {
    "colab": {
     "base_uri": "https://localhost:8080/",
     "height": 864
    },
    "id": "OstoMDZnmz3m",
    "outputId": "2eca0227-3883-458b-f875-26ec1ea0dd30"
   },
   "outputs": [
    {
     "data": {
      "text/html": [
       "<div>\n",
       "<style scoped>\n",
       "    .dataframe tbody tr th:only-of-type {\n",
       "        vertical-align: middle;\n",
       "    }\n",
       "\n",
       "    .dataframe tbody tr th {\n",
       "        vertical-align: top;\n",
       "    }\n",
       "\n",
       "    .dataframe thead th {\n",
       "        text-align: right;\n",
       "    }\n",
       "</style>\n",
       "<table border=\"1\" class=\"dataframe\">\n",
       "  <thead>\n",
       "    <tr style=\"text-align: right;\">\n",
       "      <th></th>\n",
       "      <th>count</th>\n",
       "      <th>unique</th>\n",
       "      <th>top</th>\n",
       "      <th>freq</th>\n",
       "    </tr>\n",
       "  </thead>\n",
       "  <tbody>\n",
       "    <tr>\n",
       "      <th>Project Code</th>\n",
       "      <td>10324</td>\n",
       "      <td>142</td>\n",
       "      <td>116-ZA-T30</td>\n",
       "      <td>768</td>\n",
       "    </tr>\n",
       "    <tr>\n",
       "      <th>PQ #</th>\n",
       "      <td>10324</td>\n",
       "      <td>1237</td>\n",
       "      <td>Pre-PQ Process</td>\n",
       "      <td>2681</td>\n",
       "    </tr>\n",
       "    <tr>\n",
       "      <th>PO / SO #</th>\n",
       "      <td>10324</td>\n",
       "      <td>6233</td>\n",
       "      <td>SCMS-199289</td>\n",
       "      <td>67</td>\n",
       "    </tr>\n",
       "    <tr>\n",
       "      <th>ASN/DN #</th>\n",
       "      <td>10324</td>\n",
       "      <td>7030</td>\n",
       "      <td>ASN-19166</td>\n",
       "      <td>54</td>\n",
       "    </tr>\n",
       "    <tr>\n",
       "      <th>Country</th>\n",
       "      <td>10324</td>\n",
       "      <td>43</td>\n",
       "      <td>South Africa</td>\n",
       "      <td>1406</td>\n",
       "    </tr>\n",
       "    <tr>\n",
       "      <th>Managed By</th>\n",
       "      <td>10324</td>\n",
       "      <td>4</td>\n",
       "      <td>PMO - US</td>\n",
       "      <td>10265</td>\n",
       "    </tr>\n",
       "    <tr>\n",
       "      <th>Fulfill Via</th>\n",
       "      <td>10324</td>\n",
       "      <td>2</td>\n",
       "      <td>From RDC</td>\n",
       "      <td>5404</td>\n",
       "    </tr>\n",
       "    <tr>\n",
       "      <th>Vendor INCO Term</th>\n",
       "      <td>10324</td>\n",
       "      <td>8</td>\n",
       "      <td>N/A - From RDC</td>\n",
       "      <td>5404</td>\n",
       "    </tr>\n",
       "    <tr>\n",
       "      <th>Shipment Mode</th>\n",
       "      <td>9964</td>\n",
       "      <td>4</td>\n",
       "      <td>Air</td>\n",
       "      <td>6113</td>\n",
       "    </tr>\n",
       "    <tr>\n",
       "      <th>PQ First Sent to Client Date</th>\n",
       "      <td>10324</td>\n",
       "      <td>765</td>\n",
       "      <td>Pre-PQ Process</td>\n",
       "      <td>2476</td>\n",
       "    </tr>\n",
       "    <tr>\n",
       "      <th>PO Sent to Vendor Date</th>\n",
       "      <td>10324</td>\n",
       "      <td>897</td>\n",
       "      <td>N/A - From RDC</td>\n",
       "      <td>5404</td>\n",
       "    </tr>\n",
       "    <tr>\n",
       "      <th>Scheduled Delivery Date</th>\n",
       "      <td>10324</td>\n",
       "      <td>2006</td>\n",
       "      <td>29-Aug-14</td>\n",
       "      <td>97</td>\n",
       "    </tr>\n",
       "    <tr>\n",
       "      <th>Delivered to Client Date</th>\n",
       "      <td>10324</td>\n",
       "      <td>2093</td>\n",
       "      <td>29-Aug-14</td>\n",
       "      <td>74</td>\n",
       "    </tr>\n",
       "    <tr>\n",
       "      <th>Delivery Recorded Date</th>\n",
       "      <td>10324</td>\n",
       "      <td>2042</td>\n",
       "      <td>29-Aug-14</td>\n",
       "      <td>67</td>\n",
       "    </tr>\n",
       "    <tr>\n",
       "      <th>Product Group</th>\n",
       "      <td>10324</td>\n",
       "      <td>5</td>\n",
       "      <td>ARV</td>\n",
       "      <td>8550</td>\n",
       "    </tr>\n",
       "    <tr>\n",
       "      <th>Sub Classification</th>\n",
       "      <td>10324</td>\n",
       "      <td>6</td>\n",
       "      <td>Adult</td>\n",
       "      <td>6595</td>\n",
       "    </tr>\n",
       "    <tr>\n",
       "      <th>Vendor</th>\n",
       "      <td>10324</td>\n",
       "      <td>73</td>\n",
       "      <td>SCMS from RDC</td>\n",
       "      <td>5404</td>\n",
       "    </tr>\n",
       "    <tr>\n",
       "      <th>Item Description</th>\n",
       "      <td>10324</td>\n",
       "      <td>184</td>\n",
       "      <td>Efavirenz 600mg, tablets, 30 Tabs</td>\n",
       "      <td>755</td>\n",
       "    </tr>\n",
       "    <tr>\n",
       "      <th>Molecule/Test Type</th>\n",
       "      <td>10324</td>\n",
       "      <td>86</td>\n",
       "      <td>Efavirenz</td>\n",
       "      <td>1125</td>\n",
       "    </tr>\n",
       "    <tr>\n",
       "      <th>Brand</th>\n",
       "      <td>10324</td>\n",
       "      <td>48</td>\n",
       "      <td>Generic</td>\n",
       "      <td>7285</td>\n",
       "    </tr>\n",
       "    <tr>\n",
       "      <th>Dosage</th>\n",
       "      <td>8588</td>\n",
       "      <td>54</td>\n",
       "      <td>300mg</td>\n",
       "      <td>990</td>\n",
       "    </tr>\n",
       "    <tr>\n",
       "      <th>Dosage Form</th>\n",
       "      <td>10324</td>\n",
       "      <td>17</td>\n",
       "      <td>Tablet</td>\n",
       "      <td>3532</td>\n",
       "    </tr>\n",
       "    <tr>\n",
       "      <th>Manufacturing Site</th>\n",
       "      <td>10324</td>\n",
       "      <td>88</td>\n",
       "      <td>Aurobindo Unit III, India</td>\n",
       "      <td>3172</td>\n",
       "    </tr>\n",
       "    <tr>\n",
       "      <th>First Line Designation</th>\n",
       "      <td>10324</td>\n",
       "      <td>2</td>\n",
       "      <td>Yes</td>\n",
       "      <td>7030</td>\n",
       "    </tr>\n",
       "    <tr>\n",
       "      <th>Weight (Kilograms)</th>\n",
       "      <td>10324</td>\n",
       "      <td>4688</td>\n",
       "      <td>Weight Captured Separately</td>\n",
       "      <td>1507</td>\n",
       "    </tr>\n",
       "    <tr>\n",
       "      <th>Freight Cost (USD)</th>\n",
       "      <td>10324</td>\n",
       "      <td>6733</td>\n",
       "      <td>Freight Included in Commodity Cost</td>\n",
       "      <td>1442</td>\n",
       "    </tr>\n",
       "  </tbody>\n",
       "</table>\n",
       "</div>"
      ],
      "text/plain": [
       "                              count unique  \\\n",
       "Project Code                  10324    142   \n",
       "PQ #                          10324   1237   \n",
       "PO / SO #                     10324   6233   \n",
       "ASN/DN #                      10324   7030   \n",
       "Country                       10324     43   \n",
       "Managed By                    10324      4   \n",
       "Fulfill Via                   10324      2   \n",
       "Vendor INCO Term              10324      8   \n",
       "Shipment Mode                  9964      4   \n",
       "PQ First Sent to Client Date  10324    765   \n",
       "PO Sent to Vendor Date        10324    897   \n",
       "Scheduled Delivery Date       10324   2006   \n",
       "Delivered to Client Date      10324   2093   \n",
       "Delivery Recorded Date        10324   2042   \n",
       "Product Group                 10324      5   \n",
       "Sub Classification            10324      6   \n",
       "Vendor                        10324     73   \n",
       "Item Description              10324    184   \n",
       "Molecule/Test Type            10324     86   \n",
       "Brand                         10324     48   \n",
       "Dosage                         8588     54   \n",
       "Dosage Form                   10324     17   \n",
       "Manufacturing Site            10324     88   \n",
       "First Line Designation        10324      2   \n",
       "Weight (Kilograms)            10324   4688   \n",
       "Freight Cost (USD)            10324   6733   \n",
       "\n",
       "                                                             top   freq  \n",
       "Project Code                                          116-ZA-T30    768  \n",
       "PQ #                                              Pre-PQ Process   2681  \n",
       "PO / SO #                                            SCMS-199289     67  \n",
       "ASN/DN #                                               ASN-19166     54  \n",
       "Country                                             South Africa   1406  \n",
       "Managed By                                              PMO - US  10265  \n",
       "Fulfill Via                                             From RDC   5404  \n",
       "Vendor INCO Term                                  N/A - From RDC   5404  \n",
       "Shipment Mode                                                Air   6113  \n",
       "PQ First Sent to Client Date                      Pre-PQ Process   2476  \n",
       "PO Sent to Vendor Date                            N/A - From RDC   5404  \n",
       "Scheduled Delivery Date                                29-Aug-14     97  \n",
       "Delivered to Client Date                               29-Aug-14     74  \n",
       "Delivery Recorded Date                                 29-Aug-14     67  \n",
       "Product Group                                                ARV   8550  \n",
       "Sub Classification                                         Adult   6595  \n",
       "Vendor                                             SCMS from RDC   5404  \n",
       "Item Description               Efavirenz 600mg, tablets, 30 Tabs    755  \n",
       "Molecule/Test Type                                     Efavirenz   1125  \n",
       "Brand                                                    Generic   7285  \n",
       "Dosage                                                     300mg    990  \n",
       "Dosage Form                                               Tablet   3532  \n",
       "Manufacturing Site                     Aurobindo Unit III, India   3172  \n",
       "First Line Designation                                       Yes   7030  \n",
       "Weight (Kilograms)                    Weight Captured Separately   1507  \n",
       "Freight Cost (USD)            Freight Included in Commodity Cost   1442  "
      ]
     },
     "execution_count": 15,
     "metadata": {},
     "output_type": "execute_result"
    }
   ],
   "source": [
    "df.describe(include=object).T"
   ]
  },
  {
   "cell_type": "markdown",
   "metadata": {
    "id": "pDX4fCcYkL94"
   },
   "source": [
    "# **EDA**"
   ]
  },
  {
   "cell_type": "code",
   "execution_count": 16,
   "metadata": {
    "id": "ajkEB4ASekOt"
   },
   "outputs": [],
   "source": [
    "# Dictionaries with ID as keys and weight/freight as values\n",
    "id_weight = dict(zip(df['ID'],df['Weight (Kilograms)']))\n",
    "id_freight = dict(zip(df['ID'],df['Freight Cost (USD)']))"
   ]
  },
  {
   "cell_type": "code",
   "execution_count": 17,
   "metadata": {
    "id": "kDvuJBXmeG31"
   },
   "outputs": [],
   "source": [
    "# Functions to get weight and freight from corresponding ID numbers\n",
    "def get_weight(data):\n",
    "    data = pd.to_numeric(data, errors = 'ignore')\n",
    "    if type(data) == str:\n",
    "        try:\n",
    "            d = data.split(':')\n",
    "            e = d[1][:-1]\n",
    "            return id_weight.get(int(e))\n",
    "        except:\n",
    "            return (data)\n",
    "    else:\n",
    "        return (data)\n",
    "    \n",
    "def get_freight(data):\n",
    "    data = pd.to_numeric(data, errors = 'ignore')\n",
    "    if type(data) == str:\n",
    "        try:\n",
    "            d = data.split(':')\n",
    "            e = d[1][:-1]\n",
    "            return id_freight.get(int(e))\n",
    "        except:\n",
    "            return (data)\n",
    "    else:\n",
    "        return (data)"
   ]
  },
  {
   "cell_type": "code",
   "execution_count": 18,
   "metadata": {
    "id": "IWLc82JnoXFe"
   },
   "outputs": [],
   "source": [
    "#Convering dates into datetime format. For 'PQ First Sent to Client Date' ,'PO Sent to Vendor Date ' . Coerce the errors as some of the dates are not defined.\n",
    "dt = ['PQ First Sent to Client Date' ,'PO Sent to Vendor Date','Scheduled Delivery Date','Delivered to Client Date', 'Delivery Recorded Date']\n",
    "for col in dt:\n",
    "    df[col] = pd.to_datetime(df[col], errors = 'coerce')"
   ]
  },
  {
   "cell_type": "code",
   "execution_count": 19,
   "metadata": {
    "colab": {
     "base_uri": "https://localhost:8080/"
    },
    "id": "Ylgn7GYrjtPD",
    "outputId": "66e78b76-1377-40de-b668-d5b8208baa62"
   },
   "outputs": [
    {
     "data": {
      "text/plain": [
       "Freight Included in Commodity Cost    1442\n",
       "Invoiced Separately                    239\n",
       "9736.1                                  36\n",
       "6147.18                                 27\n",
       "13398.06                                16\n",
       "                                      ... \n",
       "749.36                                   1\n",
       "7060.97                                  1\n",
       "7616.19                                  1\n",
       "12793.7                                  1\n",
       "See DN-4282 (ID#:83919)                  1\n",
       "Name: Freight Cost (USD), Length: 6733, dtype: int64"
      ]
     },
     "execution_count": 19,
     "metadata": {},
     "output_type": "execute_result"
    }
   ],
   "source": [
    "# analysis of traget columns : Freight Cost (USD)\n",
    "# total no of different values\n",
    "df['Freight Cost (USD)'].value_counts()"
   ]
  },
  {
   "cell_type": "code",
   "execution_count": 20,
   "metadata": {
    "id": "MFD1hnuPdzmv"
   },
   "outputs": [],
   "source": [
    "# Tackling Weight & Freight missing values\n",
    "df['Freight Cost (USD)'] = df['Freight Cost (USD)'].replace('Freight Included in Commodity Cost',0)"
   ]
  },
  {
   "cell_type": "code",
   "execution_count": 21,
   "metadata": {
    "id": "6YCta1_eeOnA"
   },
   "outputs": [],
   "source": [
    "df['Weight (Kilograms)'] = df['Weight (Kilograms)'].apply(get_weight)\n",
    "df['Freight Cost (USD)'] = df['Freight Cost (USD)'].apply(get_freight)"
   ]
  },
  {
   "cell_type": "code",
   "execution_count": 22,
   "metadata": {
    "id": "5gfirDvdeW-I"
   },
   "outputs": [],
   "source": [
    "df['Weight (Kilograms)'] = pd.to_numeric(df['Weight (Kilograms)'], errors = 'coerce')\n",
    "df['Freight Cost (USD)'] = pd.to_numeric(df['Freight Cost (USD)'], errors = 'coerce')"
   ]
  },
  {
   "cell_type": "code",
   "execution_count": 23,
   "metadata": {
    "id": "xLFDHDOddnGt"
   },
   "outputs": [],
   "source": [
    "df['Weight (Kilograms)'] = df['Weight (Kilograms)'].fillna(df['Weight (Kilograms)'].mean())\n",
    "df['Freight Cost (USD)'] = df['Freight Cost (USD)'].fillna(df['Freight Cost (USD)'].mean())"
   ]
  },
  {
   "cell_type": "code",
   "execution_count": 24,
   "metadata": {
    "id": "knhVp-oFecbx"
   },
   "outputs": [],
   "source": [
    "# Replace NAN with mode in Dosage column\n",
    "df['Dosage'] = df['Dosage'].fillna(df['Dosage'].mode()[0])"
   ]
  },
  {
   "cell_type": "code",
   "execution_count": 25,
   "metadata": {
    "id": "R8Q7QH2me9TF"
   },
   "outputs": [],
   "source": [
    "# Drop rows with no shipment mode\n",
    "missing_shipment = df[df['Shipment Mode'].isna()].index\n",
    "df = df.drop(missing_shipment, axis=0).reset_index(drop= True)"
   ]
  },
  {
   "cell_type": "code",
   "execution_count": 26,
   "metadata": {
    "id": "wIMrhOKHe6Sw"
   },
   "outputs": [],
   "source": [
    "# Fill Insurance with percentage value of line item value\n",
    "perc = df['Line Item Insurance (USD)'].sum() / df['Line Item Value'][df['Line Item Insurance (USD)'] >= 0].sum()\n",
    "df['Line Item Insurance (USD)'] = df['Line Item Insurance (USD)'].fillna(round(df['Line Item Value']*perc, 2))"
   ]
  },
  {
   "cell_type": "code",
   "execution_count": 27,
   "metadata": {
    "id": "1iDtPre6fJUe"
   },
   "outputs": [],
   "source": [
    "# Fill PO & PQ dates\n",
    "#Calculate Average days between Price Quote-->Purchase Order--> Scheduled Delivery\n",
    "pq_del_days = round((df['Scheduled Delivery Date'] - df['PQ First Sent to Client Date']).dt.days.mean(),0)\n",
    "pq_po_days = round((df['PO Sent to Vendor Date'] - df['PQ First Sent to Client Date']).dt.days.mean(),0)\n",
    "po_del_days = round((df['Scheduled Delivery Date'] - df['PO Sent to Vendor Date']).dt.days.mean(),0)"
   ]
  },
  {
   "cell_type": "code",
   "execution_count": 28,
   "metadata": {
    "colab": {
     "base_uri": "https://localhost:8080/"
    },
    "id": "nfPo5c6ifS0f",
    "outputId": "80c57f05-6fa5-42ad-9d82-d2913fd0525f"
   },
   "outputs": [
    {
     "name": "stdout",
     "output_type": "stream",
     "text": [
      "172.0\n",
      "54.0\n",
      "106.0\n"
     ]
    }
   ],
   "source": [
    "print (pq_del_days)\n",
    "print (pq_po_days)\n",
    "print (po_del_days)"
   ]
  },
  {
   "cell_type": "code",
   "execution_count": 29,
   "metadata": {
    "id": "dfKQ0653fVPv"
   },
   "outputs": [],
   "source": [
    "from datetime import timedelta\n",
    "# Assigning estimated dates of Price Quotation and Purchase Order\n",
    "df['PQ First Sent to Client Date'] = df['PQ First Sent to Client Date'].fillna(df['Scheduled Delivery Date'] - timedelta(days=pq_del_days))\n",
    "df['PO Sent to Vendor Date'] = df['PO Sent to Vendor Date'].fillna(df['Scheduled Delivery Date'] - timedelta(days=po_del_days))\n"
   ]
  },
  {
   "cell_type": "code",
   "execution_count": 30,
   "metadata": {},
   "outputs": [],
   "source": [
    "df.to_csv(\"Clean_df\")"
   ]
  },
  {
   "cell_type": "markdown",
   "metadata": {
    "id": "jLkh1KpzgWFS"
   },
   "source": [
    "# Data Visualization"
   ]
  },
  {
   "cell_type": "code",
   "execution_count": 31,
   "metadata": {
    "colab": {
     "base_uri": "https://localhost:8080/",
     "height": 518
    },
    "id": "4NYgwXlJpLkG",
    "outputId": "b9a41c01-3191-48e5-d138-95228f73c69f"
   },
   "outputs": [
    {
     "data": {
      "text/plain": [
       "<AxesSubplot:>"
      ]
     },
     "execution_count": 31,
     "metadata": {},
     "output_type": "execute_result"
    },
    {
     "data": {
      "image/png": "[encoded data removed]",
      "text/plain": [
       "<Figure size 1080x576 with 1 Axes>"
      ]
     },
     "metadata": {},
     "output_type": "display_data"
    }
   ],
   "source": [
    "df[\"Product Group\"].value_counts().plot(kind='bar')"
   ]
  },
  {
   "cell_type": "code",
   "execution_count": 32,
   "metadata": {
    "colab": {
     "base_uri": "https://localhost:8080/",
     "height": 627
    },
    "id": "Vy_XUrXTpSwf",
    "outputId": "5e5aea3d-405a-402a-8ed2-13ec1dd448ba"
   },
   "outputs": [
    {
     "data": {
      "text/plain": [
       "<AxesSubplot:>"
      ]
     },
     "execution_count": 32,
     "metadata": {},
     "output_type": "execute_result"
    },
    {
     "data": {
      "image/png": "[encoded data removed]",
      "text/plain": [
       "<Figure size 1080x576 with 1 Axes>"
      ]
     },
     "metadata": {},
     "output_type": "display_data"
    }
   ],
   "source": [
    "df[\"Sub Classification\"].value_counts().plot(kind=\"bar\", color ='grey')"
   ]
  },
  {
   "cell_type": "code",
   "execution_count": 33,
   "metadata": {
    "colab": {
     "base_uri": "https://localhost:8080/",
     "height": 607
    },
    "id": "hcDURz28fZgX",
    "outputId": "f99e18a1-b942-4ffc-c4a1-0bcd9f689db8"
   },
   "outputs": [
    {
     "ename": "ValueError",
     "evalue": "The truth value of a Series is ambiguous. Use a.empty, a.bool(), a.item(), a.any() or a.all().",
     "output_type": "error",
     "traceback": [
      "\u001b[1;31m---------------------------------------------------------------------------\u001b[0m",
      "\u001b[1;31mValueError\u001b[0m                                Traceback (most recent call last)",
      "Input \u001b[1;32mIn [33]\u001b[0m, in \u001b[0;36m<cell line: 1>\u001b[1;34m()\u001b[0m\n\u001b[1;32m----> 1\u001b[0m \u001b[43msns\u001b[49m\u001b[38;5;241;43m.\u001b[39;49m\u001b[43mcountplot\u001b[49m\u001b[43m(\u001b[49m\u001b[43mdf\u001b[49m\u001b[43m,\u001b[49m\u001b[43mx\u001b[49m\u001b[43m \u001b[49m\u001b[38;5;241;43m=\u001b[39;49m\u001b[38;5;124;43m'\u001b[39;49m\u001b[38;5;124;43mCountry\u001b[39;49m\u001b[38;5;124;43m'\u001b[39;49m\u001b[43m,\u001b[49m\n\u001b[0;32m      2\u001b[0m \u001b[43m              \u001b[49m\u001b[43morder\u001b[49m\u001b[43m \u001b[49m\u001b[38;5;241;43m=\u001b[39;49m\u001b[43m \u001b[49m\u001b[43mdf\u001b[49m\u001b[43m[\u001b[49m\u001b[38;5;124;43m'\u001b[39;49m\u001b[38;5;124;43mCountry\u001b[39;49m\u001b[38;5;124;43m'\u001b[39;49m\u001b[43m]\u001b[49m\u001b[38;5;241;43m.\u001b[39;49m\u001b[43mvalue_counts\u001b[49m\u001b[43m(\u001b[49m\u001b[43m)\u001b[49m\u001b[38;5;241;43m.\u001b[39;49m\u001b[43mnlargest\u001b[49m\u001b[43m(\u001b[49m\u001b[38;5;241;43m10\u001b[39;49m\u001b[43m)\u001b[49m\u001b[38;5;241;43m.\u001b[39;49m\u001b[43mindex\u001b[49m\u001b[43m)\u001b[49m\n\u001b[0;32m      3\u001b[0m plt\u001b[38;5;241m.\u001b[39mtitle(\u001b[38;5;124m'\u001b[39m\u001b[38;5;124mTop 10 Countries Wise Count \u001b[39m\u001b[38;5;130;01m\\n\u001b[39;00m\u001b[38;5;124m'\u001b[39m)\n\u001b[0;32m      4\u001b[0m plt\u001b[38;5;241m.\u001b[39mxticks(rotation \u001b[38;5;241m=\u001b[39m \u001b[38;5;241m45\u001b[39m)\n",
      "File \u001b[1;32m~\\anaconda3\\lib\\site-packages\\seaborn\\_decorators.py:46\u001b[0m, in \u001b[0;36m_deprecate_positional_args.<locals>.inner_f\u001b[1;34m(*args, **kwargs)\u001b[0m\n\u001b[0;32m     36\u001b[0m     warnings\u001b[38;5;241m.\u001b[39mwarn(\n\u001b[0;32m     37\u001b[0m         \u001b[38;5;124m\"\u001b[39m\u001b[38;5;124mPass the following variable\u001b[39m\u001b[38;5;132;01m{}\u001b[39;00m\u001b[38;5;124m as \u001b[39m\u001b[38;5;132;01m{}\u001b[39;00m\u001b[38;5;124mkeyword arg\u001b[39m\u001b[38;5;132;01m{}\u001b[39;00m\u001b[38;5;124m: \u001b[39m\u001b[38;5;132;01m{}\u001b[39;00m\u001b[38;5;124m. \u001b[39m\u001b[38;5;124m\"\u001b[39m\n\u001b[0;32m     38\u001b[0m         \u001b[38;5;124m\"\u001b[39m\u001b[38;5;124mFrom version 0.12, the only valid positional argument \u001b[39m\u001b[38;5;124m\"\u001b[39m\n\u001b[1;32m   (...)\u001b[0m\n\u001b[0;32m     43\u001b[0m         \u001b[38;5;167;01mFutureWarning\u001b[39;00m\n\u001b[0;32m     44\u001b[0m     )\n\u001b[0;32m     45\u001b[0m kwargs\u001b[38;5;241m.\u001b[39mupdate({k: arg \u001b[38;5;28;01mfor\u001b[39;00m k, arg \u001b[38;5;129;01min\u001b[39;00m \u001b[38;5;28mzip\u001b[39m(sig\u001b[38;5;241m.\u001b[39mparameters, args)})\n\u001b[1;32m---> 46\u001b[0m \u001b[38;5;28;01mreturn\u001b[39;00m f(\u001b[38;5;241m*\u001b[39m\u001b[38;5;241m*\u001b[39mkwargs)\n",
      "File \u001b[1;32m~\\anaconda3\\lib\\site-packages\\seaborn\\categorical.py:3598\u001b[0m, in \u001b[0;36mcountplot\u001b[1;34m(x, y, hue, data, order, hue_order, orient, color, palette, saturation, dodge, ax, **kwargs)\u001b[0m\n\u001b[0;32m   3595\u001b[0m \u001b[38;5;28;01melif\u001b[39;00m x \u001b[38;5;129;01mis\u001b[39;00m \u001b[38;5;129;01mnot\u001b[39;00m \u001b[38;5;28;01mNone\u001b[39;00m \u001b[38;5;129;01mand\u001b[39;00m y \u001b[38;5;129;01mis\u001b[39;00m \u001b[38;5;129;01mnot\u001b[39;00m \u001b[38;5;28;01mNone\u001b[39;00m:\n\u001b[0;32m   3596\u001b[0m     \u001b[38;5;28;01mraise\u001b[39;00m \u001b[38;5;167;01mValueError\u001b[39;00m(\u001b[38;5;124m\"\u001b[39m\u001b[38;5;124mCannot pass values for both `x` and `y`\u001b[39m\u001b[38;5;124m\"\u001b[39m)\n\u001b[1;32m-> 3598\u001b[0m plotter \u001b[38;5;241m=\u001b[39m \u001b[43m_CountPlotter\u001b[49m\u001b[43m(\u001b[49m\n\u001b[0;32m   3599\u001b[0m \u001b[43m    \u001b[49m\u001b[43mx\u001b[49m\u001b[43m,\u001b[49m\u001b[43m \u001b[49m\u001b[43my\u001b[49m\u001b[43m,\u001b[49m\u001b[43m \u001b[49m\u001b[43mhue\u001b[49m\u001b[43m,\u001b[49m\u001b[43m \u001b[49m\u001b[43mdata\u001b[49m\u001b[43m,\u001b[49m\u001b[43m \u001b[49m\u001b[43morder\u001b[49m\u001b[43m,\u001b[49m\u001b[43m \u001b[49m\u001b[43mhue_order\u001b[49m\u001b[43m,\u001b[49m\n\u001b[0;32m   3600\u001b[0m \u001b[43m    \u001b[49m\u001b[43mestimator\u001b[49m\u001b[43m,\u001b[49m\u001b[43m \u001b[49m\u001b[43mci\u001b[49m\u001b[43m,\u001b[49m\u001b[43m \u001b[49m\u001b[43mn_boot\u001b[49m\u001b[43m,\u001b[49m\u001b[43m \u001b[49m\u001b[43munits\u001b[49m\u001b[43m,\u001b[49m\u001b[43m \u001b[49m\u001b[43mseed\u001b[49m\u001b[43m,\u001b[49m\n\u001b[0;32m   3601\u001b[0m \u001b[43m    \u001b[49m\u001b[43morient\u001b[49m\u001b[43m,\u001b[49m\u001b[43m \u001b[49m\u001b[43mcolor\u001b[49m\u001b[43m,\u001b[49m\u001b[43m \u001b[49m\u001b[43mpalette\u001b[49m\u001b[43m,\u001b[49m\u001b[43m \u001b[49m\u001b[43msaturation\u001b[49m\u001b[43m,\u001b[49m\n\u001b[0;32m   3602\u001b[0m \u001b[43m    \u001b[49m\u001b[43merrcolor\u001b[49m\u001b[43m,\u001b[49m\u001b[43m \u001b[49m\u001b[43merrwidth\u001b[49m\u001b[43m,\u001b[49m\u001b[43m \u001b[49m\u001b[43mcapsize\u001b[49m\u001b[43m,\u001b[49m\u001b[43m \u001b[49m\u001b[43mdodge\u001b[49m\n\u001b[0;32m   3603\u001b[0m \u001b[43m\u001b[49m\u001b[43m)\u001b[49m\n\u001b[0;32m   3605\u001b[0m plotter\u001b[38;5;241m.\u001b[39mvalue_label \u001b[38;5;241m=\u001b[39m \u001b[38;5;124m\"\u001b[39m\u001b[38;5;124mcount\u001b[39m\u001b[38;5;124m\"\u001b[39m\n\u001b[0;32m   3607\u001b[0m \u001b[38;5;28;01mif\u001b[39;00m ax \u001b[38;5;129;01mis\u001b[39;00m \u001b[38;5;28;01mNone\u001b[39;00m:\n",
      "File \u001b[1;32m~\\anaconda3\\lib\\site-packages\\seaborn\\categorical.py:1584\u001b[0m, in \u001b[0;36m_BarPlotter.__init__\u001b[1;34m(self, x, y, hue, data, order, hue_order, estimator, ci, n_boot, units, seed, orient, color, palette, saturation, errcolor, errwidth, capsize, dodge)\u001b[0m\n\u001b[0;32m   1579\u001b[0m \u001b[38;5;28;01mdef\u001b[39;00m \u001b[38;5;21m__init__\u001b[39m(\u001b[38;5;28mself\u001b[39m, x, y, hue, data, order, hue_order,\n\u001b[0;32m   1580\u001b[0m              estimator, ci, n_boot, units, seed,\n\u001b[0;32m   1581\u001b[0m              orient, color, palette, saturation, errcolor,\n\u001b[0;32m   1582\u001b[0m              errwidth, capsize, dodge):\n\u001b[0;32m   1583\u001b[0m     \u001b[38;5;124;03m\"\"\"Initialize the plotter.\"\"\"\u001b[39;00m\n\u001b[1;32m-> 1584\u001b[0m     \u001b[38;5;28;43mself\u001b[39;49m\u001b[38;5;241;43m.\u001b[39;49m\u001b[43mestablish_variables\u001b[49m\u001b[43m(\u001b[49m\u001b[43mx\u001b[49m\u001b[43m,\u001b[49m\u001b[43m \u001b[49m\u001b[43my\u001b[49m\u001b[43m,\u001b[49m\u001b[43m \u001b[49m\u001b[43mhue\u001b[49m\u001b[43m,\u001b[49m\u001b[43m \u001b[49m\u001b[43mdata\u001b[49m\u001b[43m,\u001b[49m\u001b[43m \u001b[49m\u001b[43morient\u001b[49m\u001b[43m,\u001b[49m\n\u001b[0;32m   1585\u001b[0m \u001b[43m                             \u001b[49m\u001b[43morder\u001b[49m\u001b[43m,\u001b[49m\u001b[43m \u001b[49m\u001b[43mhue_order\u001b[49m\u001b[43m,\u001b[49m\u001b[43m \u001b[49m\u001b[43munits\u001b[49m\u001b[43m)\u001b[49m\n\u001b[0;32m   1586\u001b[0m     \u001b[38;5;28mself\u001b[39m\u001b[38;5;241m.\u001b[39mestablish_colors(color, palette, saturation)\n\u001b[0;32m   1587\u001b[0m     \u001b[38;5;28mself\u001b[39m\u001b[38;5;241m.\u001b[39mestimate_statistic(estimator, ci, n_boot, seed)\n",
      "File \u001b[1;32m~\\anaconda3\\lib\\site-packages\\seaborn\\categorical.py:156\u001b[0m, in \u001b[0;36m_CategoricalPlotter.establish_variables\u001b[1;34m(self, x, y, hue, data, orient, order, hue_order, units)\u001b[0m\n\u001b[0;32m    153\u001b[0m         \u001b[38;5;28;01mraise\u001b[39;00m \u001b[38;5;167;01mValueError\u001b[39;00m(err)\n\u001b[0;32m    155\u001b[0m \u001b[38;5;66;03m# Figure out the plotting orientation\u001b[39;00m\n\u001b[1;32m--> 156\u001b[0m orient \u001b[38;5;241m=\u001b[39m \u001b[43minfer_orient\u001b[49m\u001b[43m(\u001b[49m\n\u001b[0;32m    157\u001b[0m \u001b[43m    \u001b[49m\u001b[43mx\u001b[49m\u001b[43m,\u001b[49m\u001b[43m \u001b[49m\u001b[43my\u001b[49m\u001b[43m,\u001b[49m\u001b[43m \u001b[49m\u001b[43morient\u001b[49m\u001b[43m,\u001b[49m\u001b[43m \u001b[49m\u001b[43mrequire_numeric\u001b[49m\u001b[38;5;241;43m=\u001b[39;49m\u001b[38;5;28;43mself\u001b[39;49m\u001b[38;5;241;43m.\u001b[39;49m\u001b[43mrequire_numeric\u001b[49m\n\u001b[0;32m    158\u001b[0m \u001b[43m\u001b[49m\u001b[43m)\u001b[49m\n\u001b[0;32m    160\u001b[0m \u001b[38;5;66;03m# Option 2a:\u001b[39;00m\n\u001b[0;32m    161\u001b[0m \u001b[38;5;66;03m# We are plotting a single set of data\u001b[39;00m\n\u001b[0;32m    162\u001b[0m \u001b[38;5;66;03m# ------------------------------------\u001b[39;00m\n\u001b[0;32m    163\u001b[0m \u001b[38;5;28;01mif\u001b[39;00m x \u001b[38;5;129;01mis\u001b[39;00m \u001b[38;5;28;01mNone\u001b[39;00m \u001b[38;5;129;01mor\u001b[39;00m y \u001b[38;5;129;01mis\u001b[39;00m \u001b[38;5;28;01mNone\u001b[39;00m:\n\u001b[0;32m    164\u001b[0m \n\u001b[0;32m    165\u001b[0m     \u001b[38;5;66;03m# Determine where the data are\u001b[39;00m\n",
      "File \u001b[1;32m~\\anaconda3\\lib\\site-packages\\seaborn\\_core.py:1311\u001b[0m, in \u001b[0;36minfer_orient\u001b[1;34m(x, y, orient, require_numeric)\u001b[0m\n\u001b[0;32m   1283\u001b[0m \u001b[38;5;28;01mdef\u001b[39;00m \u001b[38;5;21minfer_orient\u001b[39m(x\u001b[38;5;241m=\u001b[39m\u001b[38;5;28;01mNone\u001b[39;00m, y\u001b[38;5;241m=\u001b[39m\u001b[38;5;28;01mNone\u001b[39;00m, orient\u001b[38;5;241m=\u001b[39m\u001b[38;5;28;01mNone\u001b[39;00m, require_numeric\u001b[38;5;241m=\u001b[39m\u001b[38;5;28;01mTrue\u001b[39;00m):\n\u001b[0;32m   1284\u001b[0m     \u001b[38;5;124;03m\"\"\"Determine how the plot should be oriented based on the data.\u001b[39;00m\n\u001b[0;32m   1285\u001b[0m \n\u001b[0;32m   1286\u001b[0m \u001b[38;5;124;03m    For historical reasons, the convention is to call a plot \"horizontally\"\u001b[39;00m\n\u001b[1;32m   (...)\u001b[0m\n\u001b[0;32m   1308\u001b[0m \n\u001b[0;32m   1309\u001b[0m \u001b[38;5;124;03m    \"\"\"\u001b[39;00m\n\u001b[1;32m-> 1311\u001b[0m     x_type \u001b[38;5;241m=\u001b[39m \u001b[38;5;28;01mNone\u001b[39;00m \u001b[38;5;28;01mif\u001b[39;00m x \u001b[38;5;129;01mis\u001b[39;00m \u001b[38;5;28;01mNone\u001b[39;00m \u001b[38;5;28;01melse\u001b[39;00m \u001b[43mvariable_type\u001b[49m\u001b[43m(\u001b[49m\u001b[43mx\u001b[49m\u001b[43m)\u001b[49m\n\u001b[0;32m   1312\u001b[0m     y_type \u001b[38;5;241m=\u001b[39m \u001b[38;5;28;01mNone\u001b[39;00m \u001b[38;5;28;01mif\u001b[39;00m y \u001b[38;5;129;01mis\u001b[39;00m \u001b[38;5;28;01mNone\u001b[39;00m \u001b[38;5;28;01melse\u001b[39;00m variable_type(y)\n\u001b[0;32m   1314\u001b[0m     nonnumeric_dv_error \u001b[38;5;241m=\u001b[39m \u001b[38;5;124m\"\u001b[39m\u001b[38;5;132;01m{}\u001b[39;00m\u001b[38;5;124m orientation requires numeric `\u001b[39m\u001b[38;5;132;01m{}\u001b[39;00m\u001b[38;5;124m` variable.\u001b[39m\u001b[38;5;124m\"\u001b[39m\n",
      "File \u001b[1;32m~\\anaconda3\\lib\\site-packages\\seaborn\\_core.py:1229\u001b[0m, in \u001b[0;36mvariable_type\u001b[1;34m(vector, boolean_type)\u001b[0m\n\u001b[0;32m   1226\u001b[0m     \u001b[38;5;28;01mreturn\u001b[39;00m \u001b[38;5;124m\"\u001b[39m\u001b[38;5;124mcategorical\u001b[39m\u001b[38;5;124m\"\u001b[39m\n\u001b[0;32m   1228\u001b[0m \u001b[38;5;66;03m# Special-case all-na data, which is always \"numeric\"\u001b[39;00m\n\u001b[1;32m-> 1229\u001b[0m \u001b[38;5;28;01mif\u001b[39;00m pd\u001b[38;5;241m.\u001b[39misna(vector)\u001b[38;5;241m.\u001b[39mall():\n\u001b[0;32m   1230\u001b[0m     \u001b[38;5;28;01mreturn\u001b[39;00m \u001b[38;5;124m\"\u001b[39m\u001b[38;5;124mnumeric\u001b[39m\u001b[38;5;124m\"\u001b[39m\n\u001b[0;32m   1232\u001b[0m \u001b[38;5;66;03m# Special-case binary/boolean data, allow caller to determine\u001b[39;00m\n\u001b[0;32m   1233\u001b[0m \u001b[38;5;66;03m# This triggers a numpy warning when vector has strings/objects\u001b[39;00m\n\u001b[0;32m   1234\u001b[0m \u001b[38;5;66;03m# https://github.com/numpy/numpy/issues/6784\u001b[39;00m\n\u001b[1;32m   (...)\u001b[0m\n\u001b[0;32m   1238\u001b[0m \u001b[38;5;66;03m# https://github.com/numpy/numpy/issues/13548\u001b[39;00m\n\u001b[0;32m   1239\u001b[0m \u001b[38;5;66;03m# This is considered a bug by numpy and will likely go away.\u001b[39;00m\n",
      "File \u001b[1;32m~\\anaconda3\\lib\\site-packages\\pandas\\core\\generic.py:1527\u001b[0m, in \u001b[0;36mNDFrame.__nonzero__\u001b[1;34m(self)\u001b[0m\n\u001b[0;32m   1525\u001b[0m \u001b[38;5;129m@final\u001b[39m\n\u001b[0;32m   1526\u001b[0m \u001b[38;5;28;01mdef\u001b[39;00m \u001b[38;5;21m__nonzero__\u001b[39m(\u001b[38;5;28mself\u001b[39m):\n\u001b[1;32m-> 1527\u001b[0m     \u001b[38;5;28;01mraise\u001b[39;00m \u001b[38;5;167;01mValueError\u001b[39;00m(\n\u001b[0;32m   1528\u001b[0m         \u001b[38;5;124mf\u001b[39m\u001b[38;5;124m\"\u001b[39m\u001b[38;5;124mThe truth value of a \u001b[39m\u001b[38;5;132;01m{\u001b[39;00m\u001b[38;5;28mtype\u001b[39m(\u001b[38;5;28mself\u001b[39m)\u001b[38;5;241m.\u001b[39m\u001b[38;5;18m__name__\u001b[39m\u001b[38;5;132;01m}\u001b[39;00m\u001b[38;5;124m is ambiguous. \u001b[39m\u001b[38;5;124m\"\u001b[39m\n\u001b[0;32m   1529\u001b[0m         \u001b[38;5;124m\"\u001b[39m\u001b[38;5;124mUse a.empty, a.bool(), a.item(), a.any() or a.all().\u001b[39m\u001b[38;5;124m\"\u001b[39m\n\u001b[0;32m   1530\u001b[0m     )\n",
      "\u001b[1;31mValueError\u001b[0m: The truth value of a Series is ambiguous. Use a.empty, a.bool(), a.item(), a.any() or a.all()."
     ]
    }
   ],
   "source": [
    "sns.countplot(df,x ='Country',\n",
    "              order = df['Country'].value_counts().nlargest(10).index)\n",
    "plt.title('Top 10 Countries Wise Count \\n')\n",
    "plt.xticks(rotation = 45)\n",
    "plt.ylabel('Total Count')\n",
    "plt.xlabel('Country Name')"
   ]
  },
  {
   "cell_type": "code",
   "execution_count": null,
   "metadata": {
    "colab": {
     "base_uri": "https://localhost:8080/",
     "height": 577
    },
    "id": "RAGG62eQgjfh",
    "outputId": "0ed35ee1-54fa-4015-dedc-9ee395041003"
   },
   "outputs": [],
   "source": [
    "df.groupby(['Country'])['Pack Price'].sum().nlargest(15).plot(kind='bar')\n",
    "plt.title(\"Total Pack Price for Top 15 Countries\")\n",
    "plt.xticks(rotation = 45)\n",
    "plt.ylabel('Total Pack Price')\n",
    "plt.xlabel('Country Name')"
   ]
  },
  {
   "cell_type": "code",
   "execution_count": null,
   "metadata": {
    "colab": {
     "base_uri": "https://localhost:8080/",
     "height": 603
    },
    "id": "xKTI5_AfqJGb",
    "outputId": "37b6347d-0044-4096-901b-f3029db527fa"
   },
   "outputs": [],
   "source": [
    "counts = df['Country'].value_counts()\n",
    "idx = counts[counts.lt(60)].index\n",
    "df.loc[df['Country'].isin(idx), 'Country'] = 'Others'\n",
    "df[\"Country\"].value_counts().plot.pie(label='',title=\"Country\",legend=True,figsize=(9,9),autopct='%1.0f%%',labeldistance=None)\n",
    "plt.legend(loc='center left', bbox_to_anchor=(1.0, 0.5))\n",
    "plt.show()"
   ]
  },
  {
   "cell_type": "code",
   "execution_count": null,
   "metadata": {
    "colab": {
     "base_uri": "https://localhost:8080/",
     "height": 1000
    },
    "id": "loPtSs2bpsyx",
    "outputId": "d29f0de6-88aa-4afd-8eb8-24932dc27546"
   },
   "outputs": [],
   "source": [
    "counts = df['Manufacturing Site'].value_counts()\n",
    "idx = counts[counts.lt(20)].index\n",
    "df.loc[df['Manufacturing Site'].isin(idx), 'Manufacturing Site'] = 'Others'\n",
    "df[\"Manufacturing Site\"].value_counts().plot(kind=\"bar\",figsize=(10,10),color ='yellow')\n",
    "plt.legend(loc='center left', bbox_to_anchor=(1.0, 0.5))\n",
    "plt.show()"
   ]
  },
  {
   "cell_type": "code",
   "execution_count": null,
   "metadata": {
    "colab": {
     "base_uri": "https://localhost:8080/",
     "height": 407
    },
    "id": "z68hVUD2qAlB",
    "outputId": "b7941503-557a-4bcd-d81b-21a563264bfe"
   },
   "outputs": [],
   "source": [
    "counts = df['Vendor'].value_counts()\n",
    "idx = counts[counts.lt(30)].index\n",
    "df.loc[df['Vendor'].isin(idx), 'Vendor'] = 'Others'\n",
    "df[\"Vendor\"].value_counts().plot.pie(label='',title=\"Vendor\",legend=True,figsize=(9,9),autopct='%1.0f%%',labeldistance=None)\n",
    "plt.legend(loc='center left', bbox_to_anchor=(1.0, 0.5))\n",
    "plt.show()"
   ]
  },
  {
   "cell_type": "code",
   "execution_count": null,
   "metadata": {},
   "outputs": [],
   "source": [
    "df['First Line Designation'].value_counts()"
   ]
  },
  {
   "cell_type": "code",
   "execution_count": null,
   "metadata": {
    "colab": {
     "base_uri": "https://localhost:8080/",
     "height": 536
    },
    "id": "z95JaVuZhzFO",
    "outputId": "c3e8986d-1a14-4d17-fdee-04c52a09f1f3"
   },
   "outputs": [],
   "source": [
    "sns.countplot(df,x =\"First Line Designation\",order = df['First Line Designation'].value_counts().nlargest(10).index)\n",
    "plt.title('First Line Designation Wise Count \\n')\n",
    "plt.ylabel('Total Count')\n",
    "plt.xlabel('First Line Designation')"
   ]
  },
  {
   "cell_type": "code",
   "execution_count": null,
   "metadata": {
    "colab": {
     "base_uri": "https://localhost:8080/",
     "height": 559
    },
    "id": "Bcxb6dJzh9yF",
    "outputId": "758948f0-70df-4c87-ecda-07229645d077"
   },
   "outputs": [],
   "source": [
    "print(\"The sum of Generic Unit Price total is \", df[df['Brand']=='Generic']['Unit Price'].sum())\n",
    "px.bar(df.groupby('Brand')['Unit Price'].count().sort_values(ascending=False), title='Count of Unit Prices wrt Brands')"
   ]
  },
  {
   "cell_type": "markdown",
   "metadata": {
    "id": "hIkkuneti0AO"
   },
   "source": [
    "**As shown Generic Brand has the maximum total count of unit price i.e. 7285 with the total sum of 1287.32. This means that count of shipping of Generic brand is more than any other brand**"
   ]
  },
  {
   "cell_type": "code",
   "execution_count": null,
   "metadata": {
    "colab": {
     "base_uri": "https://localhost:8080/",
     "height": 542
    },
    "id": "hZYpb7T2iQeW",
    "outputId": "87625fb7-24e9-4b2b-c1ab-1defafec3832"
   },
   "outputs": [],
   "source": [
    "px.bar(df.groupby('Brand')['Unit Price'].sum().sort_values(ascending = False), title='Sum of Unit Prices wrt Brands',color_discrete_sequence =['red']*3)"
   ]
  },
  {
   "cell_type": "markdown",
   "metadata": {
    "id": "poyKUhKvjDwn"
   },
   "source": [
    "1. Though as explained in above graph, the maximum cost of unit price shipped is for brand Colloidal Gold, though count is maximum for Generic which comes at second number in total cost of unit price shipping.\n",
    "\n",
    "2. This shows that Colloidal Brand has shipped maximum cost in just 70 counts whereas, generic has shipped only 0.7633% of colloidal in 7285 counts. Seems, genric brand is in good growing phase where customer trails the product in small packets.\n",
    "\n",
    "3. Other brand which is growing phase is Determines which sold 791.67 in 799 counts. Seems like, the growing phase of Determines is better than generic though the selling cost is less, because the ratio of count and selling cost is more of determines than generic. "
   ]
  },
  {
   "cell_type": "code",
   "execution_count": null,
   "metadata": {
    "colab": {
     "base_uri": "https://localhost:8080/",
     "height": 542
    },
    "id": "5LfNy8q9i5IM",
    "outputId": "7e2134a9-52c4-414d-ec1f-610d4491637a"
   },
   "outputs": [],
   "source": [
    "px.bar(df.groupby('Country')['Unit Price'].sum()/df.groupby('Country')['Unit Price'].count(), \n",
    "       title='Ratio of Sum to Count of Unit Prices wrt Country')"
   ]
  },
  {
   "cell_type": "markdown",
   "metadata": {
    "id": "52Lq0mgAjyLD"
   },
   "source": [
    "1. The above graph is displaying the ratio of sum and count. The maximum ratio is of Mali i.e. 6.10 means the maximum shipping cost of unit price is done for Mali country with minimum no. of shipping times. Opposite to this, Country Burkina Faso has the ratio 0.09 means maximum count of shipping but still cost of shipping is least.\n",
    "2. The country Mali is said to have maximum cost in export followed by Ethiopia, Botswana and Kazakhstan.\n",
    "3. If the ratio is more means the sum of export of unit price is more than the number of times the export has been done from particular country."
   ]
  },
  {
   "cell_type": "code",
   "execution_count": null,
   "metadata": {
    "colab": {
     "base_uri": "https://localhost:8080/",
     "height": 542
    },
    "id": "kfqM6JV7jZQr",
    "outputId": "ce8cd25b-4898-4d68-b78e-7952ed4ade16"
   },
   "outputs": [],
   "source": [
    "px.bar(df.groupby('Dosage Form')['Pack Price'].sum().sort_values(ascending = False), title='Sum of Pack Prices wrt Vendor',color_discrete_sequence =['black']*3)"
   ]
  },
  {
   "cell_type": "markdown",
   "metadata": {
    "id": "Oqgj3htbkD1o"
   },
   "source": [
    "1. Maximum Pack Price of Test Kit with 115k cost is shipped followed by Tablet with 50.03k cost. This implies may be that citizens prefer to go for test kit and tablet rather than any other form of dosage.\n",
    "2. But this also means that may be test kits are more costly than any other form. It can be possible that supply of test kit is least but since may be test kit is costly thats why the bar of test kit is highest."
   ]
  },
  {
   "cell_type": "code",
   "execution_count": null,
   "metadata": {
    "colab": {
     "base_uri": "https://localhost:8080/",
     "height": 542
    },
    "id": "L329Lqftj6VO",
    "outputId": "d77ca22a-82c0-4876-b1d0-72406ff38184"
   },
   "outputs": [],
   "source": [
    "ShippingMode = df[\"Shipment Mode\"].value_counts()\n",
    "labels = (np.array(ShippingMode.index))\n",
    "sizes = (np.array((ShippingMode / ShippingMode.sum())*100))\n",
    "\n",
    "trace = go.Pie(labels=labels, values=sizes)\n",
    "layout = go.Layout(title=\"Shipment Mode\")\n",
    "dat = [trace]\n",
    "fig = go.Figure(data=dat, layout=layout)\n",
    "py.iplot(fig, filename=\"Shipment Mode\")"
   ]
  },
  {
   "cell_type": "code",
   "execution_count": null,
   "metadata": {
    "colab": {
     "base_uri": "https://localhost:8080/",
     "height": 698
    },
    "id": "zr_gA1nikX1H",
    "outputId": "d08ccb70-911f-4a45-b155-2f9d6838f361"
   },
   "outputs": [],
   "source": [
    "plt.figure(figsize=(22,6))\n",
    "TopFiveManufacturingSite=df.groupby('Manufacturing Site').size().nlargest(10)\n",
    "print(TopFiveManufacturingSite)\n",
    "TopFiveManufacturingSite.plot(kind='bar')\n",
    "plt.title('Top 10 Manufacturing Site \\n')\n",
    "plt.ylabel('Total Count')\n",
    "plt.xlabel('Manufacturing Site Name')"
   ]
  },
  {
   "cell_type": "code",
   "execution_count": null,
   "metadata": {
    "colab": {
     "base_uri": "https://localhost:8080/",
     "height": 715
    },
    "id": "HAR6qEBomPCV",
    "outputId": "bb58842f-fd7d-4f47-945e-51e33f444844"
   },
   "outputs": [],
   "source": [
    "# Top 10 Air Shipment Mode in Bar Chart\n",
    "ItemData=df[df['Shipment Mode']=='Air']\n",
    "df[df[\"Shipment Mode\"]=='Air']['Manufacturing Site'].value_counts()[0:10].to_frame().plot.bar(figsize=(22,6))\n",
    "ItemSupplier = df[df[\"Shipment Mode\"]=='Air']['Manufacturing Site'].value_counts()[0:10]\n",
    "print(\"Top 10 Air Manufacturing Site \\n\")\n",
    "print(ItemSupplier)\n",
    "plt.title('Top 10 Air Manufacturing Site\\n')\n",
    "plt.ylabel('Air Count')\n",
    "plt.xlabel('Manufacturing Site')"
   ]
  },
  {
   "cell_type": "code",
   "execution_count": null,
   "metadata": {
    "colab": {
     "base_uri": "https://localhost:8080/",
     "height": 392
    },
    "id": "nUgaO4qtmXiP",
    "outputId": "bfb148a0-f188-4038-e74a-c54100f0f6b2"
   },
   "outputs": [],
   "source": [
    "plt.subplots(figsize = (18,6))\n",
    "plt.xticks(rotation = 90)\n",
    "sns.barplot(x='Shipment Mode',y= 'Pack Price', data = df)\n",
    "plt.show()"
   ]
  },
  {
   "cell_type": "code",
   "execution_count": null,
   "metadata": {
    "id": "P-26kNcymgId"
   },
   "outputs": [],
   "source": [
    "def univariateAnalysis_numeric(column,nbins):\n",
    "    print(\"Description of \" + column)\n",
    "    print(\"----------------------------------------------------------------------------\")\n",
    "    print(df[column].describe(),end='\\n')\n",
    "    \n",
    "    print(\"\\n Skewness of \" + column)\n",
    "    print(\"----------------------------------------------------------------------------\")\n",
    "    print(np.round(df[column].skew(),4),end='\\n')\n",
    "    \n",
    "    print(\"\\n Histogram and Boxplot of \" + column)\n",
    "    print(\"----------------------------------------------------------------------------\")\n",
    "    fig,axs = plt.subplots(nrows=1,ncols=2, figsize=(14,5))\n",
    "    print(sns.histplot(df[column], kde=True, color='c', ax=axs[0]))\n",
    "    print(sns.boxplot(x=df[column], ax=axs[1],color='r'))\n",
    "    plt.show();"
   ]
  },
  {
   "cell_type": "code",
   "execution_count": null,
   "metadata": {
    "colab": {
     "base_uri": "https://localhost:8080/",
     "height": 1000
    },
    "id": "x_mpazUfm-oM",
    "outputId": "b147842f-4eaa-4669-c7fd-631e2b799514",
    "scrolled": false
   },
   "outputs": [],
   "source": [
    "for column in df.columns:\n",
    "    if (df[column].dtype != 'object')and(df[column].dtype != 'datetime64[ns]'):\n",
    "        print(univariateAnalysis_numeric(column,60))"
   ]
  },
  {
   "cell_type": "markdown",
   "metadata": {
    "id": "DD3q8x6C3Lj_"
   },
   "source": [
    "# Outlier detection:"
   ]
  },
  {
   "cell_type": "code",
   "execution_count": null,
   "metadata": {
    "colab": {
     "base_uri": "https://localhost:8080/"
    },
    "id": "1qkjjfNm3LYd",
    "outputId": "a626774c-a9a6-4309-d1c0-94c296aa3b25"
   },
   "outputs": [],
   "source": [
    "num_cols = df.select_dtypes(include =['int', 'float']).columns\n",
    "print(num_cols)"
   ]
  },
  {
   "cell_type": "code",
   "execution_count": null,
   "metadata": {
    "colab": {
     "base_uri": "https://localhost:8080/",
     "height": 877
    },
    "id": "rBpFK4inqbMe",
    "outputId": "6ca5e714-8ea8-4b89-ef2b-f666a6c75eaa"
   },
   "outputs": [],
   "source": [
    "fig, ax = plt.subplots(ncols=2, nrows=4, figsize=(20,20))\n",
    "index = 0\n",
    "ax = ax.flatten()\n",
    "\n",
    "for col in num_cols :\n",
    "    if col != 'ID':\n",
    "        sns.boxplot(x=col, data=df, ax=ax[index])\n",
    "        index += 1\n",
    "plt.tight_layout(pad=0.5, w_pad=0.7, h_pad=5.0)\n"
   ]
  },
  {
   "cell_type": "code",
   "execution_count": null,
   "metadata": {
    "colab": {
     "base_uri": "https://localhost:8080/",
     "height": 405
    },
    "id": "eC3yFJTH2lyA",
    "outputId": "85f99e5e-d708-4f5f-ccd4-3b01ff960397"
   },
   "outputs": [],
   "source": [
    "plt.figure(figsize=(15, 10))\n",
    "plt.suptitle('Distribution of numerical feature', fontsize=20, fontweight='bold', alpha=0.8, y=1.)\n",
    "numeric_features = [feature for feature in df.columns if (df[feature].dtype != 'O'and df[feature].dtype != 'datetime64[ns]')]\n",
    "for i in range(0, len(numeric_features)):\n",
    "    plt.subplot(5, 3, i+1)\n",
    "    sns.kdeplot(x=df[numeric_features[i]], color='blue')\n",
    "    plt.xlabel(numeric_features[i])\n",
    "    plt.tight_layout()"
   ]
  },
  {
   "cell_type": "code",
   "execution_count": null,
   "metadata": {
    "id": "Ox1mA4Hu5YQY"
   },
   "outputs": [],
   "source": [
    "df1 = df.copy()\n",
    "def remove_outliers_IQR(col):\n",
    "    # Finding the IQR\n",
    "    percentile25 = df1[col].quantile(0.25)\n",
    "    percentile75 = df1[col].quantile(0.75)\n",
    "    print(\"percentile25\",percentile25)\n",
    "    print(\"percentile75\",percentile75)\n",
    "    iqr = percentile75 - percentile25\n",
    "    upper_limit = percentile75 + 1.5 * iqr\n",
    "    lower_limit = percentile25 - 1.5 * iqr\n",
    "    print(\"Upper limit\",upper_limit)\n",
    "    print(\"Lower limit\",lower_limit)\n",
    "    df1[col] = np.where(df1[col]>upper_limit, upper_limit, np.where(df1[col]<lower_limit,lower_limit,df1[col]))\n",
    "    return df1[df1[col] > upper_limit]"
   ]
  },
  {
   "cell_type": "code",
   "execution_count": null,
   "metadata": {
    "colab": {
     "base_uri": "https://localhost:8080/"
    },
    "id": "IB1tLYyl6rT-",
    "outputId": "78de7f30-8408-4fa3-f8cf-2542718065b3"
   },
   "outputs": [],
   "source": [
    "\n",
    "for i in num_cols:\n",
    "  if i != \"ID\":\n",
    "    remove_outliers_IQR(i)"
   ]
  },
  {
   "cell_type": "code",
   "execution_count": null,
   "metadata": {
    "id": "zkVhd0p86LiH"
   },
   "outputs": [],
   "source": [
    "def create_comparison_plot(df,df1,column):\n",
    "    # Comparing\n",
    "    plt.figure(figsize=(16,8))\n",
    "    plt.subplot(2,2,1)\n",
    "    sns.distplot(df[column])\n",
    "\n",
    "    plt.subplot(2,2,2)\n",
    "    sns.boxplot(df[column])\n",
    "\n",
    "    plt.subplot(2,2,3)\n",
    "    sns.distplot(df1[column])\n",
    "\n",
    "    plt.subplot(2,2,4)\n",
    "    sns.boxplot(df1[column])\n",
    "\n",
    "    plt.show()"
   ]
  },
  {
   "cell_type": "code",
   "execution_count": null,
   "metadata": {
    "colab": {
     "base_uri": "https://localhost:8080/",
     "height": 1000
    },
    "id": "e6WYkZPi6Wlh",
    "outputId": "634eb1dd-09e0-4358-c581-e09ed88b1911",
    "scrolled": false
   },
   "outputs": [],
   "source": [
    "for i in num_cols:\n",
    "  if i != \"ID\":\n",
    "    create_comparison_plot(df,df1,i)\n"
   ]
  },
  {
   "cell_type": "code",
   "execution_count": null,
   "metadata": {
    "colab": {
     "base_uri": "https://localhost:8080/"
    },
    "id": "Elx7sTeQ6SnD",
    "outputId": "588222f3-62c8-40fa-f0bd-3081bcf4a816"
   },
   "outputs": [],
   "source": [
    "df.skew()"
   ]
  },
  {
   "cell_type": "code",
   "execution_count": null,
   "metadata": {
    "colab": {
     "base_uri": "https://localhost:8080/"
    },
    "id": "GMPQaSOp7CCS",
    "outputId": "405dffcd-66f3-4b3c-a701-d7217914eea8"
   },
   "outputs": [],
   "source": [
    "df1.skew()"
   ]
  },
  {
   "cell_type": "code",
   "execution_count": null,
   "metadata": {
    "colab": {
     "base_uri": "https://localhost:8080/",
     "height": 566
    },
    "id": "wY0ltxKr7E9u",
    "outputId": "4df17e04-a419-4d39-f785-11ec198d08ca"
   },
   "outputs": [],
   "source": [
    "df1.corr()"
   ]
  },
  {
   "cell_type": "code",
   "execution_count": null,
   "metadata": {
    "colab": {
     "base_uri": "https://localhost:8080/",
     "height": 620
    },
    "id": "wa6ahFyD7HpK",
    "outputId": "2b118156-1905-471e-c5cc-cc72d4445d5f"
   },
   "outputs": [],
   "source": [
    "# heatmap for correlations\n",
    "sns.heatmap(df.corr(), annot=True,cmap=\"Blues\")"
   ]
  },
  {
   "cell_type": "markdown",
   "metadata": {
    "id": "2y0ORgJv7uCo"
   },
   "source": [
    "**Observation**\n",
    "1. **Freight Cost(USD)** has highest correlation with **Line Item Quantity, Line Item values, Weight(KG) and Line Item Insurance(USD)**\n",
    "2. **Freight Cost(USD)** has least correlation with Unit Of **Measure, Pack Price and unit price**\n",
    "3. **Line Item Insurance** has highest correlation with Line **Item Quantity and line Item values**\n",
    "4. Unit price and pack price has least correlation with other columns\n",
    "5. **Line Item Quantity** has highest correlation with L**ine Item Values around 84%** and **96% with Line Item Insurance**"
   ]
  },
  {
   "cell_type": "code",
   "execution_count": null,
   "metadata": {
    "colab": {
     "base_uri": "https://localhost:8080/",
     "height": 893
    },
    "id": "3K0lwp7J7qBb",
    "outputId": "87f15f0c-1e72-44d0-ea68-e68b5bf9444b"
   },
   "outputs": [],
   "source": [
    "sns.pairplot(df1[num_cols])"
   ]
  },
  {
   "cell_type": "markdown",
   "metadata": {
    "id": "PouFCqou99ya"
   },
   "source": [
    "# Feature Enginnering :"
   ]
  },
  {
   "cell_type": "markdown",
   "metadata": {
    "id": "fM1Nx_y5-pEA"
   },
   "source": [
    "**Shapiro Wick Test**"
   ]
  },
  {
   "cell_type": "code",
   "execution_count": null,
   "metadata": {
    "colab": {
     "base_uri": "https://localhost:8080/",
     "height": 331
    },
    "id": "V5oC2Aru7e4J",
    "outputId": "d349bee0-88c7-4794-846f-fd8a7eacab24"
   },
   "outputs": [],
   "source": [
    "from scipy.stats import shapiro\n",
    "shapiro_wick_test = []\n",
    "for column in num_cols:\n",
    "\n",
    "    dataToTest = df1[column]\n",
    "    stat,p = shapiro(dataToTest)\n",
    "    if p > 0.05:\n",
    "        shapiro_wick_test.append(\"Normally Distributed\")\n",
    "    else:\n",
    "        shapiro_wick_test.append(\"Not Normally Distributed\")\n",
    "result = pd.DataFrame(data=[num_cols, shapiro_wick_test]).T\n",
    "result.columns = ['Column Name', 'Shapiro Hypothesis Result']\n",
    "result"
   ]
  },
  {
   "cell_type": "markdown",
   "metadata": {
    "id": "7uRD-2S--w9P"
   },
   "source": [
    "**K^2 Normality Test**"
   ]
  },
  {
   "cell_type": "code",
   "execution_count": null,
   "metadata": {
    "colab": {
     "base_uri": "https://localhost:8080/",
     "height": 331
    },
    "id": "Ztt3dMw7-YLz",
    "outputId": "469887b2-d9fb-4622-cd55-66c94c4a64b0"
   },
   "outputs": [],
   "source": [
    "from scipy.stats import normaltest\n",
    "normaltest_test = []\n",
    "for column in num_cols:\n",
    "    dataToTest = df1[column]\n",
    "    stat,p = normaltest(dataToTest)\n",
    "    if p > 0.05:\n",
    "        normaltest_test.append(\"Normally Distributed\")\n",
    "    else:\n",
    "        normaltest_test.append(\"Not Normally Distributed\")\n",
    "result = pd.DataFrame(data=[num_cols, normaltest_test]).T\n",
    "result.columns = ['Column Name', 'normaltest Hypothesis Result']\n",
    "result"
   ]
  },
  {
   "cell_type": "code",
   "execution_count": null,
   "metadata": {
    "id": "wkQ1Zfxx_GYU"
   },
   "outputs": [],
   "source": [
    "from scipy.stats import spearmanr\n",
    "from scipy.stats import pearsonr\n",
    "\n",
    "def test_correlation(test_name,column1, column2):\n",
    "    column1_to_test = df1[column1]\n",
    "    column2_to_test = df1[column2]\n",
    "    stat,p = test_name(column1_to_test , column2_to_test)\n",
    "    d =dict()\n",
    "    d['col1'] = column1\n",
    "    d['col2'] = column2\n",
    "    if p> 0.05:\n",
    "        test_results.append(\"Independent Samples\")\n",
    "    else:\n",
    "        test_results.append(\"Dependent Samples\")\n",
    "    columns_combination.append(d)"
   ]
  },
  {
   "cell_type": "code",
   "execution_count": null,
   "metadata": {
    "colab": {
     "base_uri": "https://localhost:8080/"
    },
    "id": "wrgmDuwEAPmU",
    "outputId": "76faae3b-88d6-4355-dcba-36071a76cd1e"
   },
   "outputs": [],
   "source": [
    "num_cols"
   ]
  },
  {
   "cell_type": "markdown",
   "metadata": {
    "id": "0ZWTxkJjAfga"
   },
   "source": [
    "**Spearmanr Test**"
   ]
  },
  {
   "cell_type": "code",
   "execution_count": null,
   "metadata": {
    "id": "Z6RRBgQ2_fuC"
   },
   "outputs": [],
   "source": [
    "columns_combination = []\n",
    "test_results = []\n",
    "columns=[ 'Unit of Measure (Per Pack)', 'Line Item Quantity',\n",
    "       'Line Item Value', 'Pack Price', 'Unit Price', 'Weight (Kilograms)',\n",
    "       'Freight Cost (USD)', 'Line Item Insurance (USD)']\n",
    "for i in columns:\n",
    "  for j in columns:\n",
    "    test_correlation(spearmanr,i,j)"
   ]
  },
  {
   "cell_type": "code",
   "execution_count": null,
   "metadata": {
    "colab": {
     "base_uri": "https://localhost:8080/",
     "height": 423
    },
    "id": "CozdjZl2_V9A",
    "outputId": "f515b64a-72e0-4a0b-9b7e-3e1c5136eb7d"
   },
   "outputs": [],
   "source": [
    "df_spearmanr = pd.DataFrame(columns_combination,test_results)\n",
    "df_spearmanr"
   ]
  },
  {
   "cell_type": "markdown",
   "metadata": {
    "id": "zYRVkO_5AxcL"
   },
   "source": [
    "# Chi2 Test"
   ]
  },
  {
   "cell_type": "code",
   "execution_count": null,
   "metadata": {
    "id": "QxKzcZkwA8_y"
   },
   "outputs": [],
   "source": [
    "cat = df1.select_dtypes(include =['object'])"
   ]
  },
  {
   "cell_type": "code",
   "execution_count": null,
   "metadata": {
    "id": "Lnx2N61nqKsm"
   },
   "outputs": [],
   "source": [
    "cat_cols = cat.columns"
   ]
  },
  {
   "cell_type": "code",
   "execution_count": null,
   "metadata": {
    "colab": {
     "base_uri": "https://localhost:8080/"
    },
    "id": "BO3a3bxRqTAW",
    "outputId": "f931d0aa-15f6-4dd8-a4ea-cb9cef23e45b"
   },
   "outputs": [],
   "source": [
    "cat_cols"
   ]
  },
  {
   "cell_type": "code",
   "execution_count": null,
   "metadata": {
    "colab": {
     "base_uri": "https://localhost:8080/",
     "height": 645
    },
    "id": "S5dWIJ_m_bjB",
    "outputId": "d8a2a99b-09d3-410e-b064-fc4d10d9a1ce"
   },
   "outputs": [],
   "source": [
    "from scipy.stats import chi2_contingency\n",
    "chi2_squared_test = []\n",
    "for feature in cat_cols:\n",
    "    stat, p , dof, expected = chi2_contingency(pd.crosstab(df1['Freight Cost (USD)'], df1[feature]))\n",
    "    if p> 0.05:\n",
    "        chi2_squared_test.append(\"Independent Categories\")\n",
    "    else:\n",
    "        chi2_squared_test.append(\"Dependent Categories\")\n",
    "result = pd.DataFrame(data=[cat_cols, chi2_squared_test]).T\n",
    "result.columns = ['Column Name', 'Hypothesis Result']\n",
    "result"
   ]
  },
  {
   "cell_type": "code",
   "execution_count": null,
   "metadata": {
    "colab": {
     "base_uri": "https://localhost:8080/"
    },
    "id": "HBRxG7WBp8JW",
    "outputId": "46a684d9-4c56-4f02-d8ec-9578f646c068"
   },
   "outputs": [],
   "source": []
  },
  {
   "cell_type": "markdown",
   "metadata": {
    "id": "iqx5KoQOD9S8"
   },
   "source": [
    "# VIF"
   ]
  },
  {
   "cell_type": "code",
   "execution_count": null,
   "metadata": {
    "id": "AWWMfW_oD8j7"
   },
   "outputs": [],
   "source": [
    "\n",
    "from statsmodels.stats.outliers_influence import variance_inflation_factor\n",
    "\n",
    "def calu_vif(dataset):\n",
    "    vif = pd.DataFrame()\n",
    "    vif['feature'] = dataset.columns\n",
    "    vif['Vif_values'] = [variance_inflation_factor(dataset.values,i) for i in range(dataset.shape[1])]\n",
    "    return vif\n"
   ]
  },
  {
   "cell_type": "code",
   "execution_count": null,
   "metadata": {
    "colab": {
     "base_uri": "https://localhost:8080/",
     "height": 329
    },
    "id": "paY7ZWqoEGFN",
    "outputId": "1aca9040-a857-48ba-b1ab-76b9154c06c0"
   },
   "outputs": [],
   "source": [
    "calu_vif(df)"
   ]
  },
  {
   "cell_type": "code",
   "execution_count": null,
   "metadata": {
    "colab": {
     "base_uri": "https://localhost:8080/",
     "height": 1000
    },
    "id": "gBN2rmB8lGHc",
    "outputId": "03c44208-991b-434f-8559-4342820f865a"
   },
   "outputs": [],
   "source": [
    "import statsmodels.api as sm # to build the Q-Q graph\n",
    "# Create three subplots \n",
    "\n",
    "for i in num_cols:\n",
    "  if i !='ID':\n",
    "    sm.qqplot(df[i],markerfacecolor = \"green\", markeredgecolor = \"green\", line='45',  fit = True,)\n",
    "\n",
    "# Set the global title\n",
    "plt.suptitle(\"Normality check of data without removing outlier using Q-Q chart\")\n",
    "\n",
    "plt.show()"
   ]
  },
  {
   "cell_type": "code",
   "execution_count": null,
   "metadata": {
    "colab": {
     "base_uri": "https://localhost:8080/",
     "height": 1000
    },
    "id": "-kdNJ2u-BLVN",
    "outputId": "086a408f-d8c4-438c-b52a-591b52c8c7f6"
   },
   "outputs": [],
   "source": [
    "import statsmodels.api as sm # to build the Q-Q graph\n",
    "# Create three subplots \n",
    "\n",
    "for i in num_cols:\n",
    "  if i !='ID':\n",
    "    sm.qqplot(df1[i],markerfacecolor = \"green\", markeredgecolor = \"green\", line='45',  fit = True,)\n",
    "\n",
    "# Set the global title\n",
    "plt.suptitle(\"Normality check of data with removing outlier using Q-Q chart\")\n",
    "\n",
    "plt.show()"
   ]
  },
  {
   "cell_type": "code",
   "execution_count": null,
   "metadata": {
    "id": "XOnPXVFkCXDE"
   },
   "outputs": [],
   "source": [
    "df1.to_csv(\"Removed oultiered.csv\")"
   ]
  },
  {
   "cell_type": "code",
   "execution_count": null,
   "metadata": {
    "id": "FrlOszZCpDpu"
   },
   "outputs": [],
   "source": []
  }
 ],
 "metadata": {
  "colab": {
   "provenance": []
  },
  "kernelspec": {
   "display_name": "Python 3 (ipykernel)",
   "language": "python",
   "name": "python3"
  },
  "language_info": {
   "codemirror_mode": {
    "name": "ipython",
    "version": 3
   },
   "file_extension": ".py",
   "mimetype": "text/x-python",
   "name": "python",
   "nbconvert_exporter": "python",
   "pygments_lexer": "ipython3",
   "version": "3.9.7"
  }
 },
 "nbformat": 4,
 "nbformat_minor": 1
}
